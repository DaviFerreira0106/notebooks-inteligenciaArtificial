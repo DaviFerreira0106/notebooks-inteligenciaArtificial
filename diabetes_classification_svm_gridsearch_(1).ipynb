{
  "cells": [
    {
      "cell_type": "markdown",
      "metadata": {
        "id": "view-in-github",
        "colab_type": "text"
      },
      "source": [
        "<a href=\"https://colab.research.google.com/github/DaviFerreira0106/notebooks-inteligenciaArtificial/blob/main/diabetes_classification_svm_gridsearch_(1).ipynb\" target=\"_parent\"><img src=\"https://colab.research.google.com/assets/colab-badge.svg\" alt=\"Open In Colab\"/></a>"
      ]
    },
    {
      "cell_type": "markdown",
      "source": [
        "# Classificação de Diabetes com SVM\n",
        "\n",
        "Este notebook demonstra a implementação de um modelo de Support Vector Machine (SVM) para prever a presença de diabetes em pacientes com base em dados clínicos. Utilizamos o conjunto de dados \"Pima Indians Diabetes Database\" da UCI. Agora, vamos testar diferentes kernels e usar GridSearchCV para otimizar os hiperparâmetros C e gamma."
      ],
      "metadata": {
        "id": "Iw0bffz4bIY6"
      }
    },
    {
      "cell_type": "code",
      "source": [
        "import numpy as np\n",
        "import pandas as pd\n",
        "import matplotlib.pyplot as plt\n",
        "import seaborn as sns\n",
        "from sklearn.model_selection import train_test_split, GridSearchCV\n",
        "from sklearn.preprocessing import StandardScaler\n",
        "from sklearn.svm import SVC\n",
        "from sklearn.metrics import classification_report, confusion_matrix"
      ],
      "outputs": [],
      "execution_count": null,
      "metadata": {
        "id": "aXzXMuLZbIY7"
      }
    },
    {
      "cell_type": "markdown",
      "source": [
        "## 2. Carregamento e Exploração dos Dados\n",
        "\n",
        "Vamos carregar o conjunto de dados e fazer uma exploração inicial para entender suas características."
      ],
      "metadata": {
        "id": "NjekPyqVbIY7"
      }
    },
    {
      "cell_type": "code",
      "source": [
        "data_url = 'https://raw.githubusercontent.com/jbrownlee/Datasets/master/pima-indians-diabetes.data.csv'\n",
        "column_names = ['Pregnancies', 'Glucose', 'BloodPressure', 'SkinThickness', 'Insulin', 'BMI', 'DiabetesPedigreeFunction', 'Age', 'Outcome']\n",
        "df = pd.read_csv(data_url, names=column_names)\n",
        "\n",
        "df.head()"
      ],
      "outputs": [],
      "execution_count": null,
      "metadata": {
        "id": "FDupEYP4bIY8"
      }
    },
    {
      "cell_type": "markdown",
      "source": [
        "## 3. Pré-processamento dos Dados\n",
        "Precisamos preparar os dados para alimentar o modelo SVM. Isso inclui a normalização dos dados e a separação em conjunto de treino e teste."
      ],
      "metadata": {
        "id": "oAuOzldxbIY8"
      }
    },
    {
      "cell_type": "code",
      "source": [
        "X = df.drop('Outcome', axis=1)\n",
        "y = df['Outcome']\n",
        "\n",
        "# Divisão dos dados em treino e teste\n",
        "X_train, X_test, y_train, y_test = train_test_split(X, y, test_size=0.2, random_state=42)\n",
        "\n",
        "# Padronização dos dados\n",
        "scaler = StandardScaler()\n",
        "X_train_scaled = scaler.fit_transform(X_train)\n",
        "X_test_scaled = scaler.transform(X_test)"
      ],
      "outputs": [],
      "execution_count": null,
      "metadata": {
        "id": "JrHOTcDgbIY8"
      }
    },
    {
      "cell_type": "markdown",
      "source": [
        "## 4. Treinamento do Modelo SVM\n",
        "Vamos treinar o modelo SVM com kernel linear para tentar prever o resultado com base nas variáveis padronizadas."
      ],
      "metadata": {
        "id": "yUUQ5FWSbIY8"
      }
    },
    {
      "cell_type": "code",
      "source": [
        "model = SVC(kernel='linear')\n",
        "model.fit(X_train_scaled, y_train)"
      ],
      "outputs": [],
      "execution_count": null,
      "metadata": {
        "id": "LdoF8HUmbIY9"
      }
    },
    {
      "cell_type": "markdown",
      "source": [
        "## 5. Avaliação do Modelo\n",
        "Após treinar o modelo, vamos avaliá-lo usando a matriz de confusão e o relatório de classificação."
      ],
      "metadata": {
        "id": "XRzDmQxWbIY9"
      }
    },
    {
      "cell_type": "code",
      "source": [
        "y_pred = model.predict(X_test_scaled)\n",
        "conf_matrix = confusion_matrix(y_test, y_pred)\n",
        "plt.figure(figsize=(8, 6))\n",
        "sns.heatmap(conf_matrix, annot=True, fmt='d', cmap='Blues', cbar=False)\n",
        "plt.title('Matriz de Confusão - SVM Linear')\n",
        "plt.xlabel('Predito')\n",
        "plt.ylabel('Real')\n",
        "plt.show()\n",
        "print(classification_report(y_test, y_pred))"
      ],
      "outputs": [],
      "execution_count": null,
      "metadata": {
        "id": "6bh2XNxgbIY9"
      }
    },
    {
      "cell_type": "markdown",
      "source": [
        "## 6. Testando Diferentes Kernels e Ajustando C e Gamma com GridSearchCV\n",
        "Agora, vamos testar diferentes kernels, como o RBF e o polinomial, e ajustar os hiperparâmetros C e gamma usando o GridSearchCV."
      ],
      "metadata": {
        "id": "6DXe6qx2bIY9"
      }
    },
    {
      "cell_type": "code",
      "source": [
        "# Definir os parâmetros para o GridSearchCV\n",
        "param_grid = {\n",
        "    'C': [0.1, 1, 10, 100],\n",
        "    'gamma': [1, 0.1, 0.01, 0.001],\n",
        "    'kernel': ['rbf', 'poly']\n",
        "}\n",
        "\n",
        "# Instanciar o modelo SVM\n",
        "grid = GridSearchCV(SVC(), param_grid, refit=True, verbose=2)\n",
        "grid.fit(X_train_scaled, y_train)"
      ],
      "outputs": [],
      "execution_count": null,
      "metadata": {
        "id": "UgPYxqzKbIY9"
      }
    },
    {
      "cell_type": "markdown",
      "source": [
        "### Melhores parâmetros encontrados pelo GridSearchCV"
      ],
      "metadata": {
        "id": "MZZHAuO6bIY9"
      }
    },
    {
      "cell_type": "code",
      "source": [
        "# Exibir os melhores parâmetros\n",
        "print('Melhores parâmetros: ', grid.best_params_)\n",
        "print('Melhor estimador: ', grid.best_estimator_)"
      ],
      "outputs": [],
      "execution_count": null,
      "metadata": {
        "id": "p9dfJOAfbIY9"
      }
    },
    {
      "cell_type": "markdown",
      "source": [
        "### Avaliação do Modelo Otimizado\n",
        "Agora vamos usar o melhor modelo encontrado para avaliar o desempenho nos dados de teste."
      ],
      "metadata": {
        "id": "7AU-wRLibIY9"
      }
    },
    {
      "cell_type": "code",
      "source": [
        "# Previsões com o modelo otimizado\n",
        "grid_predictions = grid.predict(X_test_scaled)\n",
        "\n",
        "# Matriz de confusão e relatório de classificação\n",
        "conf_matrix_grid = confusion_matrix(y_test, grid_predictions)\n",
        "plt.figure(figsize=(8, 6))\n",
        "sns.heatmap(conf_matrix_grid, annot=True, fmt='d', cmap='Greens', cbar=False)\n",
        "plt.title('Matriz de Confusão - Modelo Otimizado')\n",
        "plt.xlabel('Predito')\n",
        "plt.ylabel('Real')\n",
        "plt.show()\n",
        "print(classification_report(y_test, grid_predictions))"
      ],
      "outputs": [],
      "execution_count": null,
      "metadata": {
        "id": "RBXIKuXibIY9"
      }
    },
    {
      "cell_type": "markdown",
      "source": [
        "### Conclusão\n",
        "Com a utilização do GridSearchCV, conseguimos otimizar os hiperparâmetros do modelo SVM e obter uma melhoria no desempenho da classificação. Testamos diferentes kernels e os hiperparâmetros C e gamma, sendo o kernel RBF o melhor entre os testados."
      ],
      "metadata": {
        "id": "53KUreN6bIY9"
      }
    }
  ],
  "metadata": {
    "kernelspec": {
      "display_name": "Python 3",
      "language": "python",
      "name": "python3"
    },
    "language_info": {
      "codemirror_mode": {
        "name": "ipython",
        "version": 3
      },
      "file_extension": ".py",
      "mimetype": "text/x-python",
      "name": "python",
      "nbconvert_exporter": "python",
      "version": "3.8.5"
    },
    "nteract": {
      "version": "nteract-front-end@1.0.0"
    },
    "colab": {
      "provenance": [],
      "include_colab_link": true
    }
  },
  "nbformat": 4,
  "nbformat_minor": 0
}