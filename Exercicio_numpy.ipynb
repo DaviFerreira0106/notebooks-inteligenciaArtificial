{
  "nbformat": 4,
  "nbformat_minor": 0,
  "metadata": {
    "colab": {
      "provenance": [],
      "authorship_tag": "ABX9TyOStGAQOlFZc15aoiGqFZ3e",
      "include_colab_link": true
    },
    "kernelspec": {
      "name": "python3",
      "display_name": "Python 3"
    },
    "language_info": {
      "name": "python"
    }
  },
  "cells": [
    {
      "cell_type": "markdown",
      "metadata": {
        "id": "view-in-github",
        "colab_type": "text"
      },
      "source": [
        "<a href=\"https://colab.research.google.com/github/DaviFerreira0106/notebooks-inteligenciaArtificial/blob/main/Exercicio_numpy.ipynb\" target=\"_parent\"><img src=\"https://colab.research.google.com/assets/colab-badge.svg\" alt=\"Open In Colab\"/></a>"
      ]
    },
    {
      "cell_type": "markdown",
      "source": [
        "# **Exercícios NumPy**"
      ],
      "metadata": {
        "id": "kI5s8o7Vt7-j"
      }
    },
    {
      "cell_type": "markdown",
      "source": [
        "## 1. Crie um array unidimensional de 50 elementos contendo números inteiros aleatórios entre 10 e 100."
      ],
      "metadata": {
        "id": "QS4mJiAZuKR_"
      }
    },
    {
      "cell_type": "code",
      "source": [
        "import numpy as np\n",
        "\n",
        "array = np.linspace(start=10, stop=100, num=50, dtype=int)\n",
        "print(\"\\n\\n Matriz com números inteiros de 10 à 100: \")\n",
        "print(array)"
      ],
      "metadata": {
        "id": "xl_YWzXCucnr",
        "outputId": "ba85dc18-c2bc-4847-d9ba-74b5608e69be",
        "colab": {
          "base_uri": "https://localhost:8080/"
        }
      },
      "execution_count": 7,
      "outputs": [
        {
          "output_type": "stream",
          "name": "stdout",
          "text": [
            "\n",
            "\n",
            " Matriz com números inteiros de 10 à 100: \n",
            "[ 10  11  13  15  17  19  21  22  24  26  28  30  32  33  35  37  39  41\n",
            "  43  44  46  48  50  52  54  55  57  59  61  63  65  66  68  70  72  74\n",
            "  76  77  79  81  83  85  87  88  90  92  94  96  98 100]\n"
          ]
        }
      ]
    },
    {
      "cell_type": "markdown",
      "source": [
        "## 2. Gere uma matriz 4x4 com números inteiros de 1 a 16 e extraia a última linha."
      ],
      "metadata": {
        "id": "sHQcGn6yu1O8"
      }
    },
    {
      "cell_type": "code",
      "source": [
        "array_matriz = np.random.randint(17, size=(4,4))\n",
        "fatiamento = array_matriz[0:3,:]\n",
        "print(\"\\n Matriz 4x4 com números inteiros de 1 à 16: \")\n",
        "print(array_matriz)\n",
        "print(f\"\\n Matriz 4x4 com números inteiros de 1 à 16 sem ultima linha: \")\n",
        "print(fatiamento)"
      ],
      "metadata": {
        "id": "a5XXGyh5vF9G",
        "outputId": "c8822bf2-90c9-4932-e6e5-5699ccd92cab",
        "colab": {
          "base_uri": "https://localhost:8080/"
        }
      },
      "execution_count": 3,
      "outputs": [
        {
          "output_type": "stream",
          "name": "stdout",
          "text": [
            "\n",
            " Matriz 4x4 com números inteiros de 1 à 16: \n",
            "[[ 8 14 13 11]\n",
            " [ 0  7  3  7]\n",
            " [13 15 11 16]\n",
            " [14  0 12  4]]\n",
            "\n",
            " Matriz 4x4 com números inteiros de 1 à 16 sem ultima linha: \n",
            "[[ 8 14 13 11]\n",
            " [ 0  7  3  7]\n",
            " [13 15 11 16]]\n"
          ]
        }
      ]
    },
    {
      "cell_type": "markdown",
      "source": [
        "## 3. Crie um array de zeros com comprimento 15 e substitua os valores da 5ª à 10ª posição por 1."
      ],
      "metadata": {
        "id": "O-pw9S-NvTJW"
      }
    },
    {
      "cell_type": "code",
      "source": [
        "array_zeros = np.zeros(15)\n",
        "array_zeros[4:10] = 1\n",
        "print(\"\\n Array de 15 elemnetos que entre o 5º e 10º o valor é 1: \")\n",
        "print(array_zeros)"
      ],
      "metadata": {
        "id": "0e7DyB47vkVU",
        "outputId": "b009fe01-0136-4eef-ee90-7b1d833d16f5",
        "colab": {
          "base_uri": "https://localhost:8080/"
        }
      },
      "execution_count": 5,
      "outputs": [
        {
          "output_type": "stream",
          "name": "stdout",
          "text": [
            "\n",
            " Array de 15 elemnetos que entre o 5º e 10º o valor é 1: \n",
            "[0. 0. 0. 0. 1. 1. 1. 1. 1. 1. 0. 0. 0. 0. 0.]\n"
          ]
        }
      ]
    },
    {
      "cell_type": "markdown",
      "source": [
        "## 4. Gere um array de 100 números inteiros aleatórios e encontre a mediana e a moda dos valores"
      ],
      "metadata": {
        "id": "djlbrrvP3ebv"
      }
    },
    {
      "cell_type": "code",
      "source": [
        "array_aleatorio = np.random.randint(100, size=101)\n",
        "mediana = np.median(array_aleatorio)\n",
        "moda = np.bincount(array_aleatorio).argmax()\n",
        "print(\"\\n Array de 100 números aleatórios\")\n",
        "print(array_aleatorio)\n",
        "print(f\"\\n Mediana do array: {mediana}\")\n",
        "print(f\"\\n Moda do array: {moda}\")"
      ],
      "metadata": {
        "id": "PGGpkVxu4DW9",
        "outputId": "095c0696-da6b-40f4-bb33-47446413de16",
        "colab": {
          "base_uri": "https://localhost:8080/"
        }
      },
      "execution_count": 6,
      "outputs": [
        {
          "output_type": "stream",
          "name": "stdout",
          "text": [
            "\n",
            " Array de 100 números aleatórios\n",
            "[ 4  2 72 24 51 47 84 15 68  6 43 56 65 70 90 80 83 81 63 79 60 60 74 14\n",
            " 99 90 31 59 67 95 87 24 34  5 43 74  1  5 59 11 17 62  1 63 81 52 57 19\n",
            " 53 49 12 47 90 12 73 10 58 35 13 10 85 60 81 20 62 39 57 48 49 76 58 24\n",
            " 58 54 78 40 96 49 57  5 70 16 72 11 76 32 91 74 29 72 87 63 55 26 16 74\n",
            " 33 81 39 38 67]\n",
            "\n",
            " Mediana do array: 57.0\n",
            "\n",
            " Moda do array: 74\n"
          ]
        }
      ]
    },
    {
      "cell_type": "markdown",
      "source": [
        "## 5. Crie um array de 20 elementos contendo números entre 1 e 100 e substitua todos os valores múltiplos de 3 por -3"
      ],
      "metadata": {
        "id": "48i85FZS41_e"
      }
    },
    {
      "cell_type": "code",
      "source": [
        "array = np.linspace(start=1, stop=100, num=20)\n",
        "array[array % 3 == 0] = -3\n",
        "print(\"\\n Array de 20 elementos contendo números entre 1 e 100: \")\n",
        "print(array)"
      ],
      "metadata": {
        "id": "22c166lZ5Igd",
        "outputId": "b861f8a7-85da-4256-d33b-ef517b41d120",
        "colab": {
          "base_uri": "https://localhost:8080/"
        }
      },
      "execution_count": 10,
      "outputs": [
        {
          "output_type": "stream",
          "name": "stdout",
          "text": [
            "\n",
            " Array de 20 elementos contendo números entre 1 e 100: \n",
            "[  1.           6.21052632  11.42105263  16.63157895  21.84210526\n",
            "  27.05263158  32.26315789  37.47368421  42.68421053  47.89473684\n",
            "  53.10526316  58.31578947  63.52631579  68.73684211  73.94736842\n",
            "  79.15789474  84.36842105  89.57894737  94.78947368 100.        ]\n"
          ]
        }
      ]
    }
  ]
}