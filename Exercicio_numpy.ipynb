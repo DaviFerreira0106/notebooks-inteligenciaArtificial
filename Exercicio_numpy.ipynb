{
  "nbformat": 4,
  "nbformat_minor": 0,
  "metadata": {
    "colab": {
      "provenance": [],
      "authorship_tag": "ABX9TyNIacfA0thspSiHu4TARxAP",
      "include_colab_link": true
    },
    "kernelspec": {
      "name": "python3",
      "display_name": "Python 3"
    },
    "language_info": {
      "name": "python"
    }
  },
  "cells": [
    {
      "cell_type": "markdown",
      "metadata": {
        "id": "view-in-github",
        "colab_type": "text"
      },
      "source": [
        "<a href=\"https://colab.research.google.com/github/DaviFerreira0106/notebooks-inteligenciaArtificial/blob/main/Exercicio_numpy.ipynb\" target=\"_parent\"><img src=\"https://colab.research.google.com/assets/colab-badge.svg\" alt=\"Open In Colab\"/></a>"
      ]
    },
    {
      "cell_type": "code",
      "execution_count": 34,
      "metadata": {
        "colab": {
          "base_uri": "https://localhost:8080/"
        },
        "id": "6g_ExrSoT6ZG",
        "outputId": "e283c9f5-885e-4729-b77c-f881926603a5"
      },
      "outputs": [
        {
          "output_type": "stream",
          "name": "stdout",
          "text": [
            "\t\t\t EXERCÍCIOS NUMPY\n",
            "\n",
            "\n",
            " Matriz com números inteiros de 1 à 100: \n",
            "[  1   3   5   7   9  11  13  15  17  19  21  23  25  27  29  31  33  35\n",
            "  37  39  41  43  45  47  49  51  53  55  57  59  61  63  65  67  69  71\n",
            "  73  75  77  79  81  83  85  87  89  91  93  95  97 100]\n",
            "\n",
            " Matriz 4x4 com números inteiros de 1 à 16: \n",
            "[[ 9 15 10 12]\n",
            " [ 9 11 13  6]\n",
            " [ 2  7  3  2]\n",
            " [ 5 14  2 14]]\n",
            "\n",
            " Matriz 4x4 com números inteiros de 1 à 16 sem ultima linha: \n",
            "[[ 9 15 10 12]\n",
            " [ 9 11 13  6]\n",
            " [ 2  7  3  2]]\n",
            "\n",
            " Array de 15 elemnetos que entre o 5º e 10º o valor é 1: \n",
            "[0. 0. 0. 0. 0. 1. 1. 1. 1. 1. 1. 0. 0. 0. 0.]\n",
            "\n",
            " Array de 100 números aleatórios\n",
            "[79 93 13 90 27 64 72 26  9 47 61 51 82 35 44  8 58 73 74 95 57 91 15 92\n",
            " 49 61 55 83 55 26 95 52 89 38 62 13  4 96 96 82 26 11 76 16 85 88 52 93\n",
            " 34 60 30 29 43 59 24 59 53 85 96 26 23 93 73 80 12 95 31 48 17 49 26 89\n",
            " 86 52 73 85 25 90 44 98 52 14 89 99 55 12 73 51 35 77 98 62 77 38 26  5\n",
            " 63 45 36 24 21]\n",
            "\n",
            " Mediana do array: 55.0\n",
            "\n",
            " Moda do array: [158 186  26 180  54 128 144  52  18  94 122 102 164  70  88  16 116 146\n",
            " 148 190 114 182  30 184  98 122 110 166 110  52 190 104 178  76 124  26\n",
            "   8 192 192 164  52  22 152  32 170 176 104 186  68 120  60  58  86 118\n",
            "  48 118 106 170 192  52  46 186 146 160  24 190  62  96  34  98  52 178\n",
            " 172 104 146 170  50 180  88 196 104  28 178 198 110  24 146 102  70 154\n",
            " 196 124 154  76  52  10 126  90  72  48  42]\n"
          ]
        }
      ],
      "source": [
        "import numpy as np\n",
        "\n",
        "print(\"\\t\\t\\t EXERCÍCIOS NUMPY\")\n",
        "\n",
        "#Exercício1\n",
        "array = np.linspace(start=1, stop=100, num=50, dtype=int)\n",
        "print(\"\\n\\n Matriz com números inteiros de 1 à 100: \")\n",
        "print(array)\n",
        "\n",
        "#Exercício2\n",
        "array_matriz = np.random.randint(17, size=(4,4))\n",
        "fatiamento = array_matriz[0:3,:]\n",
        "print(\"\\n Matriz 4x4 com números inteiros de 1 à 16: \")\n",
        "print(array_matriz)\n",
        "print(f\"\\n Matriz 4x4 com números inteiros de 1 à 16 sem ultima linha: \")\n",
        "print(fatiamento)\n",
        "\n",
        "#Exercício3\n",
        "array_zeros = np.zeros(15)\n",
        "array_zeros[5] = 1\n",
        "array_zeros[6] = 1\n",
        "array_zeros[7] = 1\n",
        "array_zeros[8] = 1\n",
        "array_zeros[9] = 1\n",
        "array_zeros[10] = 1\n",
        "print(\"\\n Array de 15 elemnetos que entre o 5º e 10º o valor é 1: \")\n",
        "print(array_zeros)\n",
        "\n",
        "#Exercício4\n",
        "array_aleatorio = np.random.randint(100, size=101)\n",
        "mediana = np.median(array_aleatorio)\n",
        "print(\"\\n Array de 100 números aleatórios\")\n",
        "print(array_aleatorio)\n",
        "print(f\"\\n Mediana do array: {mediana}\")\n",
        "\n",
        "#Exercício5\n",
        "\n",
        "\n",
        "\n",
        "\n",
        "\n",
        "\n"
      ]
    }
  ]
}