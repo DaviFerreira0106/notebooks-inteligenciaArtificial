{
  "nbformat": 4,
  "nbformat_minor": 0,
  "metadata": {
    "colab": {
      "provenance": [],
      "authorship_tag": "ABX9TyOZR/OMDBC5+TTPhEB/mrYD",
      "include_colab_link": true
    },
    "kernelspec": {
      "name": "python3",
      "display_name": "Python 3"
    },
    "language_info": {
      "name": "python"
    }
  },
  "cells": [
    {
      "cell_type": "markdown",
      "metadata": {
        "id": "view-in-github",
        "colab_type": "text"
      },
      "source": [
        "<a href=\"https://colab.research.google.com/github/DaviFerreira0106/notebooks-inteligenciaArtificial/blob/main/Exercicio_numpy.ipynb\" target=\"_parent\"><img src=\"https://colab.research.google.com/assets/colab-badge.svg\" alt=\"Open In Colab\"/></a>"
      ]
    },
    {
      "cell_type": "markdown",
      "source": [
        "# **Exercícios NumPy**"
      ],
      "metadata": {
        "id": "kI5s8o7Vt7-j"
      }
    },
    {
      "cell_type": "markdown",
      "source": [
        "## 1. Crie um array unidimensional de 50 elementos contendo números inteiros aleatórios entre 10 e 100."
      ],
      "metadata": {
        "id": "QS4mJiAZuKR_"
      }
    },
    {
      "cell_type": "code",
      "source": [
        "import numpy as np\n",
        "\n",
        "array = np.linspace(start=10, stop=100, num=50, dtype=int)\n",
        "print(\"\\n\\n Matriz com números inteiros de 10 à 100: \")\n",
        "print(array)"
      ],
      "metadata": {
        "id": "xl_YWzXCucnr",
        "outputId": "ba85dc18-c2bc-4847-d9ba-74b5608e69be",
        "colab": {
          "base_uri": "https://localhost:8080/"
        }
      },
      "execution_count": null,
      "outputs": [
        {
          "output_type": "stream",
          "name": "stdout",
          "text": [
            "\n",
            "\n",
            " Matriz com números inteiros de 10 à 100: \n",
            "[ 10  11  13  15  17  19  21  22  24  26  28  30  32  33  35  37  39  41\n",
            "  43  44  46  48  50  52  54  55  57  59  61  63  65  66  68  70  72  74\n",
            "  76  77  79  81  83  85  87  88  90  92  94  96  98 100]\n"
          ]
        }
      ]
    },
    {
      "cell_type": "markdown",
      "source": [
        "## 2. Gere uma matriz 4x4 com números inteiros de 1 a 16 e extraia a última linha."
      ],
      "metadata": {
        "id": "sHQcGn6yu1O8"
      }
    },
    {
      "cell_type": "code",
      "source": [
        "array_matriz = np.random.randint(17, size=(4,4))\n",
        "fatiamento = array_matriz[0:3,:]\n",
        "print(\"\\n Matriz 4x4 com números inteiros de 1 à 16: \")\n",
        "print(array_matriz)\n",
        "print(f\"\\n Matriz 4x4 com números inteiros de 1 à 16 sem ultima linha: \")\n",
        "print(fatiamento)"
      ],
      "metadata": {
        "id": "a5XXGyh5vF9G",
        "outputId": "c8822bf2-90c9-4932-e6e5-5699ccd92cab",
        "colab": {
          "base_uri": "https://localhost:8080/"
        }
      },
      "execution_count": null,
      "outputs": [
        {
          "output_type": "stream",
          "name": "stdout",
          "text": [
            "\n",
            " Matriz 4x4 com números inteiros de 1 à 16: \n",
            "[[ 8 14 13 11]\n",
            " [ 0  7  3  7]\n",
            " [13 15 11 16]\n",
            " [14  0 12  4]]\n",
            "\n",
            " Matriz 4x4 com números inteiros de 1 à 16 sem ultima linha: \n",
            "[[ 8 14 13 11]\n",
            " [ 0  7  3  7]\n",
            " [13 15 11 16]]\n"
          ]
        }
      ]
    },
    {
      "cell_type": "markdown",
      "source": [
        "## 3. Crie um array de zeros com comprimento 15 e substitua os valores da 5ª à 10ª posição por 1."
      ],
      "metadata": {
        "id": "O-pw9S-NvTJW"
      }
    },
    {
      "cell_type": "code",
      "source": [
        "array_zeros = np.zeros(15)\n",
        "array_zeros[4:10] = 1\n",
        "print(\"\\n Array de 15 elemnetos que entre o 5º e 10º o valor é 1: \")\n",
        "print(array_zeros)"
      ],
      "metadata": {
        "id": "0e7DyB47vkVU",
        "outputId": "b009fe01-0136-4eef-ee90-7b1d833d16f5",
        "colab": {
          "base_uri": "https://localhost:8080/"
        }
      },
      "execution_count": null,
      "outputs": [
        {
          "output_type": "stream",
          "name": "stdout",
          "text": [
            "\n",
            " Array de 15 elemnetos que entre o 5º e 10º o valor é 1: \n",
            "[0. 0. 0. 0. 1. 1. 1. 1. 1. 1. 0. 0. 0. 0. 0.]\n"
          ]
        }
      ]
    },
    {
      "cell_type": "markdown",
      "source": [
        "## 4. Gere um array de 100 números inteiros aleatórios e encontre a mediana e a moda dos valores"
      ],
      "metadata": {
        "id": "djlbrrvP3ebv"
      }
    },
    {
      "cell_type": "code",
      "source": [
        "array_aleatorio = np.random.randint(100, size=101)\n",
        "mediana = np.median(array_aleatorio)\n",
        "moda = np.bincount(array_aleatorio).argmax()\n",
        "print(\"\\n Array de 100 números aleatórios\")\n",
        "print(array_aleatorio)\n",
        "print(f\"\\n Mediana do array: {mediana}\")\n",
        "print(f\"\\n Moda do array: {moda}\")"
      ],
      "metadata": {
        "id": "PGGpkVxu4DW9",
        "outputId": "095c0696-da6b-40f4-bb33-47446413de16",
        "colab": {
          "base_uri": "https://localhost:8080/"
        }
      },
      "execution_count": null,
      "outputs": [
        {
          "output_type": "stream",
          "name": "stdout",
          "text": [
            "\n",
            " Array de 100 números aleatórios\n",
            "[ 4  2 72 24 51 47 84 15 68  6 43 56 65 70 90 80 83 81 63 79 60 60 74 14\n",
            " 99 90 31 59 67 95 87 24 34  5 43 74  1  5 59 11 17 62  1 63 81 52 57 19\n",
            " 53 49 12 47 90 12 73 10 58 35 13 10 85 60 81 20 62 39 57 48 49 76 58 24\n",
            " 58 54 78 40 96 49 57  5 70 16 72 11 76 32 91 74 29 72 87 63 55 26 16 74\n",
            " 33 81 39 38 67]\n",
            "\n",
            " Mediana do array: 57.0\n",
            "\n",
            " Moda do array: 74\n"
          ]
        }
      ]
    },
    {
      "cell_type": "markdown",
      "source": [
        "## 5. Crie um array de 20 elementos contendo números entre 1 e 100 e substitua todos os valores múltiplos de 3 por -3"
      ],
      "metadata": {
        "id": "48i85FZS41_e"
      }
    },
    {
      "cell_type": "code",
      "source": [
        "array = np.linspace(start=1, stop=100, num=20)\n",
        "array[array % 3 == 0] = -3\n",
        "print(\"\\n Array de 20 elementos contendo números entre 1 e 100: \")\n",
        "print(array)"
      ],
      "metadata": {
        "id": "22c166lZ5Igd",
        "outputId": "b861f8a7-85da-4256-d33b-ef517b41d120",
        "colab": {
          "base_uri": "https://localhost:8080/"
        }
      },
      "execution_count": null,
      "outputs": [
        {
          "output_type": "stream",
          "name": "stdout",
          "text": [
            "\n",
            " Array de 20 elementos contendo números entre 1 e 100: \n",
            "[  1.           6.21052632  11.42105263  16.63157895  21.84210526\n",
            "  27.05263158  32.26315789  37.47368421  42.68421053  47.89473684\n",
            "  53.10526316  58.31578947  63.52631579  68.73684211  73.94736842\n",
            "  79.15789474  84.36842105  89.57894737  94.78947368 100.        ]\n"
          ]
        }
      ]
    },
    {
      "cell_type": "markdown",
      "source": [
        "## 6. Gere uma matriz 5x5 de números aleatórios entre 0 e 1 e encontre a soma de cada coluna"
      ],
      "metadata": {
        "id": "8jdk-zHMfIUu"
      }
    },
    {
      "cell_type": "code",
      "source": [
        "import numpy as np\n",
        "\n",
        "matriz = np.random.rand(5,5)\n",
        "soma_coluna = np.sum(matriz, axis=0)\n",
        "\n",
        "print(\"\\n Matriz 5x5 de números aleatórios entre 0 e 1: \")\n",
        "print(matriz)\n",
        "print(\"\\n Soma de cada coluna: \")\n",
        "print(soma_coluna)"
      ],
      "metadata": {
        "colab": {
          "base_uri": "https://localhost:8080/"
        },
        "id": "hQfMY3Ulfhqv",
        "outputId": "e7632685-be9d-494d-c327-5a99bc05fbac"
      },
      "execution_count": 1,
      "outputs": [
        {
          "output_type": "stream",
          "name": "stdout",
          "text": [
            "\n",
            " Matriz 5x5 de números aleatórios entre 0 e 1: \n",
            "[[0.71471141 0.47950622 0.11761433 0.70933193 0.31130153]\n",
            " [0.66554539 0.98270055 0.0256256  0.89394831 0.99541562]\n",
            " [0.61267843 0.11841125 0.50875032 0.33673648 0.71529057]\n",
            " [0.37249454 0.69744821 0.65772852 0.41347654 0.80238697]\n",
            " [0.0231699  0.04222934 0.86705248 0.94388408 0.29407256]]\n",
            "\n",
            " Soma de cada coluna: \n",
            "[2.38859966 2.32029556 2.17677125 3.29737734 3.11846723]\n"
          ]
        }
      ]
    },
    {
      "cell_type": "markdown",
      "source": [
        "## 7. Crie dois arrays de números aleatórios e encontre a correlação entre eles"
      ],
      "metadata": {
        "id": "yhqI11mThQay"
      }
    },
    {
      "cell_type": "code",
      "source": [
        "vetor_1 = np.random.rand(10)\n",
        "vetor_2 = np.random.rand(10)\n",
        "\n",
        "print(\"\\n Vetor 1: \")\n",
        "print(vetor_1)\n",
        "print(\"\\n Vetor 2: \")\n",
        "print(vetor_2)\n",
        "\n",
        "correlacao = np.corrcoef(vetor_1, vetor_2)\n",
        "\n",
        "print(\"\\n Correlação entre os dois vetores: \")\n",
        "print(correlacao)"
      ],
      "metadata": {
        "colab": {
          "base_uri": "https://localhost:8080/"
        },
        "id": "gB6QsH7hhkOh",
        "outputId": "c547afac-b81c-4037-8eae-88207d3fc0b9"
      },
      "execution_count": 5,
      "outputs": [
        {
          "output_type": "stream",
          "name": "stdout",
          "text": [
            "\n",
            " Vetor 1: \n",
            "[0.68500041 0.41930707 0.41276022 0.20354003 0.81598018 0.35492167\n",
            " 0.04890706 0.79597587 0.95154974 0.83972425]\n",
            "\n",
            " Vetor 2: \n",
            "[0.87774853 0.47848445 0.33937515 0.67988115 0.13531381 0.67301002\n",
            " 0.22944674 0.88445607 0.4210279  0.00801171]\n",
            "\n",
            " Correlação entre os dois vetores: \n",
            "[[ 1.         -0.07273372]\n",
            " [-0.07273372  1.        ]]\n"
          ]
        }
      ]
    },
    {
      "cell_type": "markdown",
      "source": [
        "## 8. Gere uma matriz 3x3 com números inteiros aleatórios e eleve todos os seus elementos ao quadrado"
      ],
      "metadata": {
        "id": "RFS_vwIek9Xk"
      }
    },
    {
      "cell_type": "code",
      "source": [
        "matriz = np.random.randint(10,size=(3,3))\n",
        "matriz_quadrada = np.power(matriz, 2)\n",
        "\n",
        "print(\"\\n Matriz 3x3 com números inteiros aleatórios: \")\n",
        "print(matriz)\n",
        "print(\"\\n Matriz 3x3 com números ao quadrado: \")\n",
        "print(matriz_quadrada)"
      ],
      "metadata": {
        "colab": {
          "base_uri": "https://localhost:8080/"
        },
        "id": "iKwD7hVGlO7d",
        "outputId": "4c446c7e-bf25-4bcd-d185-9593e32574f2"
      },
      "execution_count": 7,
      "outputs": [
        {
          "output_type": "stream",
          "name": "stdout",
          "text": [
            "\n",
            " Matriz 3x3 com números inteiros aleatórios: \n",
            "[[3 8 4]\n",
            " [0 5 0]\n",
            " [4 2 1]]\n",
            "\n",
            " Matriz 3x3 com números ao quadrado: \n",
            "[[ 9 64 16]\n",
            " [ 0 25  0]\n",
            " [16  4  1]]\n"
          ]
        }
      ]
    },
    {
      "cell_type": "markdown",
      "source": [
        "## 9. Crie um array com 10 números aleatórios e normalize seus valores entre 0 e 1"
      ],
      "metadata": {
        "id": "5oKGd0B5nbgj"
      }
    },
    {
      "cell_type": "code",
      "source": [
        "array = np.random.rand(10)\n",
        "array_normalizado = (array - np.min(array)) / (np.max(array) - np.min(array))\n",
        "\n",
        "print(\"\\n Array com 10 números aleatórios: \")\n",
        "print(array)\n",
        "print(\"\\n Array normalizado entre 0 e 1: \")\n",
        "print(array_normalizado)"
      ],
      "metadata": {
        "colab": {
          "base_uri": "https://localhost:8080/"
        },
        "id": "lbJH545qntSS",
        "outputId": "e59884d0-8c65-4591-c1a2-efe11b2cfd31"
      },
      "execution_count": 8,
      "outputs": [
        {
          "output_type": "stream",
          "name": "stdout",
          "text": [
            "\n",
            " Array com 10 números aleatórios: \n",
            "[0.23726503 0.94149815 0.47274771 0.41467299 0.15609146 0.93553033\n",
            " 0.64847534 0.76139686 0.59455187 0.99550915]\n",
            "\n",
            " Array normalizado entre 0 e 1: \n",
            "[0.09670224 0.93565658 0.37723323 0.3080487  0.         0.92854711\n",
            " 0.58657791 0.72110155 0.52233878 1.        ]\n"
          ]
        }
      ]
    },
    {
      "cell_type": "markdown",
      "source": [
        "## 10. Crie uma matriz identidade 6x6 e substitua a diagonal principal por valores crescentes de 1 a 6"
      ],
      "metadata": {
        "id": "JCwyH0Nno5om"
      }
    },
    {
      "cell_type": "code",
      "source": [
        "matriz = np.eye(6)\n",
        "matriz[np.diag_indices_from(matriz)] = np.arange(1,7)\n",
        "\n",
        "print(\"\\n Matriz identidade 6x6: \")\n",
        "print(matriz)"
      ],
      "metadata": {
        "colab": {
          "base_uri": "https://localhost:8080/"
        },
        "id": "RAwz8A0WpQAX",
        "outputId": "ff2a81c6-80c1-429f-b21e-d4cfa3131320"
      },
      "execution_count": 16,
      "outputs": [
        {
          "output_type": "stream",
          "name": "stdout",
          "text": [
            "\n",
            " Matriz identidade 6x6: \n",
            "[[1. 0. 0. 0. 0. 0.]\n",
            " [0. 2. 0. 0. 0. 0.]\n",
            " [0. 0. 3. 0. 0. 0.]\n",
            " [0. 0. 0. 4. 0. 0.]\n",
            " [0. 0. 0. 0. 5. 0.]\n",
            " [0. 0. 0. 0. 0. 6.]]\n"
          ]
        }
      ]
    },
    {
      "cell_type": "markdown",
      "source": [
        "## 11. Gere um array de 100 números inteiros e encontre o valor que mais se repete no array"
      ],
      "metadata": {
        "id": "AolW5guebbjG"
      }
    },
    {
      "cell_type": "code",
      "source": [
        "import numpy as np\n",
        "\n",
        "array = np.random.randint(100, size=100)\n",
        "valor_repetido = np.bincount(array).argmax()\n",
        "\n",
        "print(\"\\n Array de 100 números inteiros: \")\n",
        "print(array)\n",
        "print(f\"\\n Valor que mais se repete no array: {valor_repetido}\")"
      ],
      "metadata": {
        "colab": {
          "base_uri": "https://localhost:8080/"
        },
        "id": "tudM_sqRbtiV",
        "outputId": "85e43a46-3b50-412c-bee4-7d5523517560"
      },
      "execution_count": 2,
      "outputs": [
        {
          "output_type": "stream",
          "name": "stdout",
          "text": [
            "\n",
            " Array de 100 números inteiros: \n",
            "[14 81  0 58 75 86 72 58 81 50 98 73 73 70 89 99  6 31 25 90 21  3 92 48\n",
            " 81 50 28 10 28 91 84 35 14 85 23 11 73 63 96 34 13 88 94 65 50 68 11 26\n",
            " 86 54  1  8 40 89 66 40  5 37 12 80 96 98 17 47 41 21 57 31 72 30 96 41\n",
            " 34 53 24 14  8 20 40 93 68 41 66 27 54 13 41 22 40  6 33 73 12  9 95 79\n",
            " 26 84 89  8]\n",
            "\n",
            " Valor que mais se repete no array: 40\n"
          ]
        }
      ]
    },
    {
      "cell_type": "markdown",
      "source": [
        "## 12. Crie uma matriz 4x4 e substitua os valores da diagonal principal por 7"
      ],
      "metadata": {
        "id": "mffm2E1Sd_R4"
      }
    },
    {
      "cell_type": "code",
      "source": [
        "matriz = np.random.randint(10, size=(4, 4))\n",
        "matriz[np.diag_indices_from(matriz)] = 7\n",
        "\n",
        "print(\"\\n Matriz 4x4: \")\n",
        "print(matriz)"
      ],
      "metadata": {
        "colab": {
          "base_uri": "https://localhost:8080/"
        },
        "id": "DvBSIyuTeS1K",
        "outputId": "2e6fb33e-a468-440d-a5ec-50dbe93c1580"
      },
      "execution_count": 3,
      "outputs": [
        {
          "output_type": "stream",
          "name": "stdout",
          "text": [
            "\n",
            " Matriz 4x4: \n",
            "[[7 7 3 6]\n",
            " [4 7 1 4]\n",
            " [2 3 7 4]\n",
            " [1 1 5 7]]\n"
          ]
        }
      ]
    },
    {
      "cell_type": "markdown",
      "source": [
        "## 13. Crie um array contendo os 10 primeiros números pares calcule sua soma cumulativa"
      ],
      "metadata": {
        "id": "agFP-ZgvgJ2Y"
      }
    },
    {
      "cell_type": "code",
      "source": [
        "import numpy as np\n",
        "\n",
        "array = np.linspace(start=2, stop=20, num=10, dtype=int)\n",
        "soma_cumulativa = np.sum(array)\n",
        "\n",
        "print(\"\\n Array com os 10 primeiros números pares: \")\n",
        "print(array)\n",
        "print(f\"\\n Soma cumulativa do array: {soma_cumulativa}\")"
      ],
      "metadata": {
        "colab": {
          "base_uri": "https://localhost:8080/"
        },
        "id": "IskJobt8gct8",
        "outputId": "3e3c2ac1-2183-45f6-f825-919e6c5a13d0"
      },
      "execution_count": 10,
      "outputs": [
        {
          "output_type": "stream",
          "name": "stdout",
          "text": [
            "\n",
            " Array com os 10 primeiros números pares: \n",
            "[ 2  4  6  8 10 12 14 16 18 20]\n",
            "\n",
            " Soma cumulativa do array: 110\n"
          ]
        }
      ]
    },
    {
      "cell_type": "markdown",
      "source": [
        "## 14. Calcule a diferença entre dois arrays de números aleatórios de mesmo comprimento e encontre a média das diferenças"
      ],
      "metadata": {
        "id": "jbvNU7yInCmm"
      }
    },
    {
      "cell_type": "code",
      "source": [
        "array_1 = np.random.rand(10)\n",
        "array_2 = np.random.rand(10)\n",
        "\n",
        "desvio = np.std(array_1 - array_2)\n",
        "media_desvio = np.mean(desvio)\n",
        "\n",
        "print(\"\\n Array 1: \")\n",
        "print(array_1)\n",
        "print(\"\\n Array 2: \")\n",
        "print(array_2)\n",
        "print(f\"\\n Desvio entre os dois arrays: {desvio}\")\n",
        "print(f\"\\n Média dos desvios: {media_desvio}\")"
      ],
      "metadata": {
        "id": "H95p2nFcncgO",
        "outputId": "9d42e9ac-e7d6-49bb-c83c-4baf57ab4a56",
        "colab": {
          "base_uri": "https://localhost:8080/"
        }
      },
      "execution_count": 11,
      "outputs": [
        {
          "output_type": "stream",
          "name": "stdout",
          "text": [
            "\n",
            " Array 1: \n",
            "[0.35168274 0.3923524  0.60649086 0.81552758 0.28249646 0.95303732\n",
            " 0.83490898 0.71086663 0.05293536 0.54269706]\n",
            "\n",
            " Array 2: \n",
            "[0.54376376 0.14731845 0.91302614 0.36241669 0.27613191 0.23415017\n",
            " 0.92790645 0.8305165  0.3463833  0.28498433]\n",
            "\n",
            " Desvio entre os dois arrays: 0.322922609788854\n",
            "\n",
            " Média dos desvios: 0.322922609788854\n"
          ]
        }
      ]
    },
    {
      "cell_type": "markdown",
      "source": [
        "## 15. Gere um array contendo 20 números e substitua todos valores maiores que 50 por 50"
      ],
      "metadata": {
        "id": "LMRA8tD_pUVq"
      }
    },
    {
      "cell_type": "code",
      "source": [
        "array = np.random.randint(100, size=20)\n",
        "array[array > 50] = 50\n",
        "\n",
        "print(\"\\n Array com 20 números: \")\n",
        "print(array)"
      ],
      "metadata": {
        "id": "bYBnp20yp3wp",
        "outputId": "e3a5db45-805c-437a-ae45-84387562e32f",
        "colab": {
          "base_uri": "https://localhost:8080/"
        }
      },
      "execution_count": 12,
      "outputs": [
        {
          "output_type": "stream",
          "name": "stdout",
          "text": [
            "\n",
            " Array com 20 números: \n",
            "[14 49 44 50 50 45 50  9 50 31 43 50  7 46  4 50  0 50 13 43]\n"
          ]
        }
      ]
    },
    {
      "cell_type": "markdown",
      "source": [
        "## 16. Crie um array unidimensional e reorganize seus valores em uma matriz 3x4"
      ],
      "metadata": {
        "id": "F06zqw2vqeYO"
      }
    },
    {
      "cell_type": "code",
      "source": [
        "array = np.random.randint(100, size=12)\n",
        "matriz = np.reshape(array, (3, 4))\n",
        "\n",
        "print(\"\\n Array unidimensional: \")\n",
        "print(array)\n",
        "print(\"\\n Matriz 3x4: \")\n",
        "print(matriz)"
      ],
      "metadata": {
        "id": "yhzkHpzuqqX9",
        "outputId": "8136e281-b566-4c07-bdfe-8d53958cf370",
        "colab": {
          "base_uri": "https://localhost:8080/"
        }
      },
      "execution_count": 13,
      "outputs": [
        {
          "output_type": "stream",
          "name": "stdout",
          "text": [
            "\n",
            " Array unidimensional: \n",
            "[26 50 74 72 43 37 66 98 98 49  3 23]\n",
            "\n",
            " Matriz 3x4: \n",
            "[[26 50 74 72]\n",
            " [43 37 66 98]\n",
            " [98 49  3 23]]\n"
          ]
        }
      ]
    },
    {
      "cell_type": "markdown",
      "source": [
        "## 17. Gere uma matriz 4x4 de números inteiros aleatórios e multiplique cada valor por sua posição na matriz"
      ],
      "metadata": {
        "id": "oFbTLxZlsIuY"
      }
    },
    {
      "cell_type": "code",
      "source": [
        "matriz = np.random.randint(10, size=(4, 4))\n",
        "matriz_multiplicada = np.multiply(matriz, np.arange(1, 17).reshape(4, 4))\n",
        "\n",
        "print(\"\\n Matriz 4x4 de números inteiros aleatórios: \")\n",
        "print(matriz)\n",
        "print(\"\\n Matriz 4x4 com os valores multiplicados: \")\n",
        "print(matriz_multiplicada)\n"
      ],
      "metadata": {
        "id": "1V97Qf3psgpC",
        "outputId": "2b49ebc3-1247-486f-d2ce-01fe093ff4bb",
        "colab": {
          "base_uri": "https://localhost:8080/"
        }
      },
      "execution_count": 16,
      "outputs": [
        {
          "output_type": "stream",
          "name": "stdout",
          "text": [
            "\n",
            " Matriz 4x4 de números inteiros aleatórios: \n",
            "[[3 9 3 7]\n",
            " [5 3 8 2]\n",
            " [1 3 3 9]\n",
            " [2 7 9 3]]\n",
            "\n",
            " Matriz 4x4 com os valores multiplicados: \n",
            "[[  3  18   9  28]\n",
            " [ 25  18  56  16]\n",
            " [  9  30  33 108]\n",
            " [ 26  98 135  48]]\n"
          ]
        }
      ]
    },
    {
      "cell_type": "markdown",
      "source": [
        "## 18. Crie um array de 10 elementos contendo números entre 1 e 100 e substitua todos os valores multiplos de 5 por 0"
      ],
      "metadata": {
        "id": "6-Q1dTqRuhGg"
      }
    },
    {
      "cell_type": "code",
      "source": [
        "array = np.random.randint(100, size=10)\n",
        "array[array % 5 == 0] = 0\n",
        "\n",
        "print(\"\\n Array de 10 elementos contendo números entre 1 e 100: \")\n",
        "print(array)\n"
      ],
      "metadata": {
        "id": "JFolIFlIu8G6",
        "outputId": "97171b95-a414-4c44-f976-656982264635",
        "colab": {
          "base_uri": "https://localhost:8080/"
        }
      },
      "execution_count": 17,
      "outputs": [
        {
          "output_type": "stream",
          "name": "stdout",
          "text": [
            "\n",
            " Array de 10 elementos contendo números entre 1 e 100: \n",
            "[42 18  0 69 26 91 77 12  0  0]\n"
          ]
        }
      ]
    },
    {
      "cell_type": "markdown",
      "source": [
        "## 19. Crie dois arrays de números inteiros aleatórios de tamanho 20 e calcule o ângulo entre eles (produto escalar normalizado)"
      ],
      "metadata": {
        "id": "KzrxzplyvWmZ"
      }
    },
    {
      "cell_type": "code",
      "source": [
        "arra_1 = np.random.randint(100, size=20)\n",
        "array_2 = np.random.randint(100, size=20)\n",
        "\n",
        "produto_escalar = np.dot(arra_1, array_2)\n",
        "norma_1 = np.linalg.norm(arra_1)\n",
        "norma_2 = np.linalg.norm(array_2)\n",
        "\n",
        "print(\"\\n Array 1: \")\n",
        "print(arra_1)\n",
        "print(\"\\n Array 2: \")\n",
        "print(array_2)\n",
        "print(f\"\\n Produto escalar entre os dois arrays: {produto_escalar}\")\n",
        "print(f\"\\n Produto escalar normalizado do array 1: {norma_1}\")\n",
        "print(f\"\\n Produto escalar normalizado do array 2: {norma_2}\")"
      ],
      "metadata": {
        "id": "Gq3P496rvxi5",
        "outputId": "bc44579e-a4c8-4627-bcaf-9ce4a805cab4",
        "colab": {
          "base_uri": "https://localhost:8080/"
        }
      },
      "execution_count": 19,
      "outputs": [
        {
          "output_type": "stream",
          "name": "stdout",
          "text": [
            "\n",
            " Array 1: \n",
            "[57  0 80 73 86  3 68 68 25 25  6 61 43 27 16 55  3 68  5 42]\n",
            "\n",
            " Array 2: \n",
            "[87 10 39 69 25 51 85 71 91 38 38 59 12 25 98 52 61 74  0 56]\n",
            "\n",
            " Produto escalar entre os dois arrays: 46265\n",
            "\n",
            " Produto escalar normalizado do array 1: 221.17640018772346\n",
            "\n",
            " Produto escalar normalizado do array 2: 263.6342162921953\n"
          ]
        }
      ]
    },
    {
      "cell_type": "markdown",
      "source": [
        "## 20. Crie uma matriz de números inteiros e ncontre o valor mínimo de cada linha"
      ],
      "metadata": {
        "id": "-VENcKnNxGNL"
      }
    },
    {
      "cell_type": "code",
      "source": [
        "matriz = np.random.randint(20, size=(4,4))\n",
        "minimo = np.min(matriz, axis=1)\n",
        "\n",
        "print(\"\\n Matriz de números inteiros: \")\n",
        "print(matriz)\n",
        "print(\"\\n Valor mínimo de cada linha: \")\n",
        "print(minimo)"
      ],
      "metadata": {
        "id": "jgrIty9Gxanz",
        "outputId": "3aba5a90-1168-478c-f401-72685281161b",
        "colab": {
          "base_uri": "https://localhost:8080/"
        }
      },
      "execution_count": 21,
      "outputs": [
        {
          "output_type": "stream",
          "name": "stdout",
          "text": [
            "\n",
            " Matriz de números inteiros: \n",
            "[[ 9  0 16 19]\n",
            " [ 4  7 14 18]\n",
            " [18 18  7  1]\n",
            " [16  1 16 18]]\n",
            "\n",
            " Valor mínimo de cada linha: \n",
            "[0 4 1 1]\n"
          ]
        }
      ]
    }
  ]
}