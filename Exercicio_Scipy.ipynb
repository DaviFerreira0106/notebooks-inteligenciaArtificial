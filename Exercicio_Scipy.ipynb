{
  "nbformat": 4,
  "nbformat_minor": 0,
  "metadata": {
    "colab": {
      "provenance": [],
      "authorship_tag": "ABX9TyN/6oCAe5LhmECG797/mPId",
      "include_colab_link": true
    },
    "kernelspec": {
      "name": "python3",
      "display_name": "Python 3"
    },
    "language_info": {
      "name": "python"
    }
  },
  "cells": [
    {
      "cell_type": "markdown",
      "metadata": {
        "id": "view-in-github",
        "colab_type": "text"
      },
      "source": [
        "<a href=\"https://colab.research.google.com/github/DaviFerreira0106/notebooks-inteligenciaArtificial/blob/main/Exercicio_Scipy.ipynb\" target=\"_parent\"><img src=\"https://colab.research.google.com/assets/colab-badge.svg\" alt=\"Open In Colab\"/></a>"
      ]
    },
    {
      "cell_type": "markdown",
      "source": [
        "# Exercícios de SciPy\n"
      ],
      "metadata": {
        "id": "0bv4hHt32qM5"
      }
    },
    {
      "cell_type": "markdown",
      "source": [
        "## 1. Calcule a integral da função f(x) = x² sin(x) no intervalo de 0 a π"
      ],
      "metadata": {
        "id": "Kx6Iuj1h24YG"
      }
    },
    {
      "cell_type": "code",
      "source": [
        "from scipy import integrate\n",
        "import numpy as np\n",
        "\n",
        "def f(x):\n",
        "  return x**2\n",
        "\n",
        "resultado, erro = integrate.quad(f,0,np.pi)\n",
        "\n",
        "print(\"Resultado: \", resultado)\n",
        "print(\"Erro: \", erro)"
      ],
      "metadata": {
        "colab": {
          "base_uri": "https://localhost:8080/"
        },
        "id": "etgfjPS_3mxf",
        "outputId": "2835b38a-20ad-4938-bfd5-e57bdadfdcaa"
      },
      "execution_count": null,
      "outputs": [
        {
          "output_type": "stream",
          "name": "stdout",
          "text": [
            "Resultado:  10.335425560099939\n",
            "Erro:  1.1474627426122306e-13\n"
          ]
        }
      ]
    },
    {
      "cell_type": "markdown",
      "source": [
        "## 2. Resolva a equação diferencial **`dy/dx = x − y, com y(0) = 1`**, no intervalo de 0 a 10."
      ],
      "metadata": {
        "id": "9AoXO73283LM"
      }
    },
    {
      "cell_type": "code",
      "source": [
        "from scipy.integrate import solve_ivp\n",
        "import numpy as np\n",
        "\n",
        "def equacao_diferencial(x, y):\n",
        "  return x - y\n",
        "\n",
        "resultado = solve_ivp(equacao_diferencial, [0, 10], [1], t_eval=np.linspace(0, 10, 100))\n",
        "\n",
        "print(f\"Resultado: {resultado}\")"
      ],
      "metadata": {
        "colab": {
          "base_uri": "https://localhost:8080/"
        },
        "id": "slrfdNHU9x27",
        "outputId": "7eef019d-e594-4e1f-b91a-350d3307cd52"
      },
      "execution_count": null,
      "outputs": [
        {
          "output_type": "stream",
          "name": "stdout",
          "text": [
            "Resultado:   message: The solver successfully reached the end of the integration interval.\n",
            "  success: True\n",
            "   status: 0\n",
            "        t: [ 0.000e+00  1.010e-01 ...  9.899e+00  1.000e+01]\n",
            "        y: [[ 1.000e+00  9.089e-01 ...  8.899e+00  9.000e+00]]\n",
            "      sol: None\n",
            " t_events: None\n",
            " y_events: None\n",
            "     nfev: 50\n",
            "     njev: 0\n",
            "      nlu: 0\n"
          ]
        }
      ]
    },
    {
      "cell_type": "markdown",
      "source": [
        "## 3. Encontre as raízes da função **`f(x) = X*X*X*X - 3x³ + 2`** utilizando SciPy."
      ],
      "metadata": {
        "id": "GQ-XrSxf_5le"
      }
    },
    {
      "cell_type": "code",
      "source": [
        "from scipy.optimize import root\n",
        "\n",
        "def f(x):\n",
        "  return x**4 - 3*x**3 + 2\n",
        "\n",
        "resultado = root(f, 0)\n",
        "\n",
        "print(f\"Resultado: {resultado.x}\")\n"
      ],
      "metadata": {
        "colab": {
          "base_uri": "https://localhost:8080/"
        },
        "id": "6mM820kdExxn",
        "outputId": "d1287d92-cf44-4347-fcda-86d5b85a836d"
      },
      "execution_count": null,
      "outputs": [
        {
          "output_type": "stream",
          "name": "stdout",
          "text": [
            "Resultado: [0.]\n"
          ]
        }
      ]
    },
    {
      "cell_type": "markdown",
      "source": [
        "## 4. Use a função de otimização de SciPy para maximizar f(x) = −x² + 4x + 1."
      ],
      "metadata": {
        "id": "x_dV1JP0GBh3"
      }
    },
    {
      "cell_type": "code",
      "source": [
        "from scipy.optimize import minimize\n",
        "\n",
        "def f(x):\n",
        "  return -x**2 + 4*x + 1\n",
        "\n",
        "resultado = minimize(f, 0)\n",
        "\n",
        "print(f\"Resultado: {resultado.x}\")"
      ],
      "metadata": {
        "colab": {
          "base_uri": "https://localhost:8080/"
        },
        "id": "hFPozrrNGUhs",
        "outputId": "6c6a97f0-241a-4e43-f073-c54367f2747d"
      },
      "execution_count": null,
      "outputs": [
        {
          "output_type": "stream",
          "name": "stdout",
          "text": [
            "Resultado: [-1034.24]\n"
          ]
        }
      ]
    },
    {
      "cell_type": "markdown",
      "source": [
        "## 5. Calcule a transformada de Fourier de um sinal composto de sin(2πt) e cos(4πt)."
      ],
      "metadata": {
        "id": "fBV6AEOTHG7E"
      }
    },
    {
      "cell_type": "code",
      "source": [
        "from scipy.fft import fft\n",
        "import numpy as np\n",
        "\n",
        "t = np.linspace()"
      ],
      "metadata": {
        "id": "VvfNdetpHa9a"
      },
      "execution_count": null,
      "outputs": []
    },
    {
      "cell_type": "markdown",
      "source": [
        "## 6. Encontre a matriz inversa de uma matriz 5x5 de números aleatórios."
      ],
      "metadata": {
        "id": "EJxpXQsVEp-r"
      }
    },
    {
      "cell_type": "code",
      "source": [
        "from scipy.linalg import inv\n",
        "import numpy as np\n",
        "\n",
        "matriz = np.random.rand(5, 5)\n",
        "matriz_inversa = inv(matriz)\n",
        "\n",
        "print(f\"Matriz: {matriz}\")\n",
        "print(f\"Matriz inversa: {matriz_inversa}\")\n"
      ],
      "metadata": {
        "id": "W-HVTmnuE6Ho",
        "outputId": "1b675368-34e6-4c35-9aa8-d9626be67608",
        "colab": {
          "base_uri": "https://localhost:8080/"
        }
      },
      "execution_count": 1,
      "outputs": [
        {
          "output_type": "stream",
          "name": "stdout",
          "text": [
            "Matriz: [[0.90471855 0.33018307 0.91049074 0.40408531 0.40268997]\n",
            " [0.84932047 0.00804715 0.62835011 0.89351143 0.47225177]\n",
            " [0.19923203 0.51691072 0.43805229 0.29734076 0.52230423]\n",
            " [0.25663942 0.62605221 0.00948086 0.86463982 0.25548614]\n",
            " [0.71402226 0.42447688 0.50584762 0.02625155 0.00401803]]\n",
            "Matriz inversa: [[-7.74099158  4.57924905  2.90249554 -2.28789837  5.77441869]\n",
            " [ 0.26863292 -1.0581098   0.33650353  0.83627533  0.52375627]\n",
            " [10.5334379  -5.51068513 -4.28294705  2.44136876 -6.47418209]\n",
            " [ 4.57340433 -2.03367153 -2.71677097  2.15806937 -3.39342741]\n",
            " [-8.75095702  5.07994524  5.61310625 -3.23104066  4.64068649]]\n"
          ]
        }
      ]
    },
    {
      "cell_type": "markdown",
      "source": [
        "## 7. Use a função de interpolação cúbica de SciPy para interpolar os dados (0, 0),(1, 2),(2, 3),(3, 5),(4, 4)\n"
      ],
      "metadata": {
        "id": "qXXfj5fsGLVN"
      }
    },
    {
      "cell_type": "code",
      "source": [
        "from scipy import interpolate\n",
        "import numpy as np\n",
        "\n",
        "x = np.array([0, 1, 2, 3, 4])\n",
        "y = np.array([0, 2, 3, 5, 4])\n",
        "\n",
        "interpolacao = interpolate.interp1d(x, y, kind='cubic')\n",
        "\n",
        "x_novos = np.linspace(0, 4, 100)\n",
        "y_novos = interpolacao(x_novos)\n",
        "\n",
        "print(f\"Valores interpolados: {y_novos}\")"
      ],
      "metadata": {
        "id": "tYWI4lz4GXyT",
        "outputId": "f2cf5d12-8985-4d1b-eca4-52aa54e10a6a",
        "colab": {
          "base_uri": "https://localhost:8080/"
        }
      },
      "execution_count": 2,
      "outputs": [
        {
          "output_type": "stream",
          "name": "stdout",
          "text": [
            "Valores interpolados: [0.         0.14451353 0.28191173 0.41242545 0.53628555 0.65372289\n",
            " 0.76496832 0.87025271 0.9698069  1.06386176 1.15264814 1.23639689\n",
            " 1.31533888 1.38970496 1.45972599 1.52563282 1.58765631 1.64602732\n",
            " 1.70097671 1.75273533 1.80153403 1.84760368 1.89117513 1.93247923\n",
            " 1.97174685 2.00920885 2.04509606 2.07963937 2.11306961 2.14561766\n",
            " 2.17751435 2.20899056 2.24027714 2.27160494 2.30320482 2.33530764\n",
            " 2.36814425 2.40194552 2.43694229 2.47336543 2.51144578 2.55141422\n",
            " 2.59350159 2.63793875 2.68495656 2.73478588 2.78765755 2.84380244\n",
            " 2.90345141 2.96683531 3.03417263 3.10539741 3.18015924 3.25809536\n",
            " 3.33884298 3.42203932 3.50732163 3.59432711 3.682693   3.77205652\n",
            " 3.86205489 3.95232535 4.04250511 4.1322314  4.22114146 4.30887249\n",
            " 4.39506173 4.4793464  4.56136373 4.64075094 4.71714526 4.79018392\n",
            " 4.85950413 4.92474313 4.98553813 5.04152637 5.09234507 5.13763146\n",
            " 5.17702275 5.21015618 5.23666897 5.25619835 5.26838153 5.27285576\n",
            " 5.26925824 5.25722621 5.23639689 5.20640751 5.16689529 5.11749746\n",
            " 5.05785124 4.98759386 4.90636254 4.81379451 4.70952699 4.59319722\n",
            " 4.4644424  4.32289978 4.16820657 4.        ]\n"
          ]
        }
      ]
    },
    {
      "cell_type": "markdown",
      "source": [
        "## 8. Resolva o sistema de equações **`3x + 2y = 5 e x + 4y = 6`**\n"
      ],
      "metadata": {
        "id": "JXVIKGMLIZGu"
      }
    },
    {
      "cell_type": "code",
      "source": [
        "from scipy import linalg\n",
        "import numpy as np\n",
        "\n",
        "a = np.array([[3, 2], [1, 4]])\n",
        "b = np.array([5, 6])\n",
        "\n",
        "solucao = linalg.solve(a, b)\n",
        "\n",
        "print(f\"Solução: {solucao}\")"
      ],
      "metadata": {
        "id": "xYx01WDFIk20",
        "outputId": "ba9c5c46-5a2a-414e-c938-671944f163a8",
        "colab": {
          "base_uri": "https://localhost:8080/"
        }
      },
      "execution_count": 3,
      "outputs": [
        {
          "output_type": "stream",
          "name": "stdout",
          "text": [
            "Solução: [0.8 1.3]\n"
          ]
        }
      ]
    },
    {
      "cell_type": "markdown",
      "source": [
        "## 9. Ajuste uma curva quadrática aos pontos (1, 2),(2, 4),(3, 5),(4, 7),(5, 8).\n"
      ],
      "metadata": {
        "id": "acXei9KqJuK7"
      }
    },
    {
      "cell_type": "code",
      "source": [
        "from scipy.optimize import curve_fit\n",
        "import numpy as np\n",
        "\n",
        "x = np.array([1, 2, 3, 4, 5])\n",
        "y = np.array([2, 4, 5, 7, 8])\n",
        "\n",
        "def parabola(x, a, b, c):\n",
        "  return a*x**2 + b*x + c\n",
        "\n",
        "parametros, _ = curve_fit(parabola, x, y)\n",
        "\n",
        "print(f\"Parâmetros da curva quadrática: {parametros}\")\n"
      ],
      "metadata": {
        "id": "FLBWc_wYJ3Ga",
        "outputId": "489439a2-91ec-4646-b03e-9fb7a9944910",
        "colab": {
          "base_uri": "https://localhost:8080/"
        }
      },
      "execution_count": 6,
      "outputs": [
        {
          "output_type": "stream",
          "name": "stdout",
          "text": [
            "Parâmetros da curva quadrática: [-0.07142857  1.92857143  0.2       ]\n"
          ]
        }
      ]
    },
    {
      "cell_type": "markdown",
      "source": [
        "## 10. Calcule a integral dupla da função **`f(x, y) = xy + x²`** no intervalo **`[0, 2]`** para **`x`** e **`[0, 1]`** para **`y`**"
      ],
      "metadata": {
        "id": "QrlBHBFNMPxM"
      }
    },
    {
      "cell_type": "code",
      "source": [
        "from scipy import integrate\n",
        "\n",
        "def f(x, y):\n",
        "  return x*y + x**2\n",
        "\n",
        "resultado, erro = integrate.dblquad(f, 0, 2, lambda y: 0, lambda y: 1)\n",
        "print(f\"Resultado: {resultado}\")"
      ],
      "metadata": {
        "id": "OmbpnFJ-MnqJ",
        "outputId": "10283e32-d53b-431a-9ade-88b15d376f2c",
        "colab": {
          "base_uri": "https://localhost:8080/"
        }
      },
      "execution_count": 11,
      "outputs": [
        {
          "output_type": "stream",
          "name": "stdout",
          "text": [
            "Resultado: 1.6666666666666665\n"
          ]
        }
      ]
    },
    {
      "cell_type": "markdown",
      "source": [
        "## 11. Encontre os autovalores e autovetores de uma matriz 4x4 de números inteiros aleatórios."
      ],
      "metadata": {
        "id": "IQupWfpQOknT"
      }
    },
    {
      "cell_type": "code",
      "source": [
        "from scipy import linalg\n",
        "import numpy as np\n",
        "\n",
        "matriz = np.random.randint(4, size=(4,4))\n",
        "autovalores, autovetores = linalg.eig(matriz)\n",
        "\n",
        "print(f\"Matriz: {matriz}\")\n",
        "print(f\"Autovalores: {autovalores}\")\n",
        "print(f\"Autovetores: {autovetores}\")\n"
      ],
      "metadata": {
        "id": "jYG6wZCZPBOJ",
        "outputId": "637f8db4-c52e-45bc-99bc-452352608bf5",
        "colab": {
          "base_uri": "https://localhost:8080/"
        }
      },
      "execution_count": 13,
      "outputs": [
        {
          "output_type": "stream",
          "name": "stdout",
          "text": [
            "Matriz: [[0 0 1 0]\n",
            " [3 1 2 3]\n",
            " [0 1 0 3]\n",
            " [3 0 1 2]]\n",
            "Autovalores: [ 4.11528007+0.j         -0.84320142+1.35714563j -0.84320142-1.35714563j\n",
            "  0.57112276+0.j        ]\n",
            "Autovetores: [[ 0.11463669+0.j          0.25476282+0.41004468j  0.25476282-0.41004468j\n",
            "  -0.12057264+0.j        ]\n",
            " [ 0.78460452+0.j          0.13974224+0.00746213j  0.13974224-0.00746213j\n",
            "  -0.94335239+0.j        ]\n",
            " [ 0.47176209+0.j         -0.77130672+0.j         -0.77130672-0.j\n",
            "  -0.06886178+0.j        ]\n",
            " [ 0.38560953+0.j          0.17020823-0.35141256j  0.17020823+0.35141256j\n",
            "   0.30134129+0.j        ]]\n"
          ]
        }
      ]
    },
    {
      "cell_type": "markdown",
      "source": [
        "## 12.  Resolva a equação e**x − x² = 0 para encontrar a raiz mais próxima de x = 1\n"
      ],
      "metadata": {
        "id": "1qVcIuGYRPfg"
      }
    },
    {
      "cell_type": "code",
      "source": [
        "from scipy.optimize import root\n",
        "import numpy as np\n",
        "\n",
        "def f(x, e):\n",
        "  return x**2 - e**x\n",
        "\n",
        "resultado = root(f, 1, args=(1))\n",
        "\n",
        "print(f\"Resultado: {resultado.x}\")\n"
      ],
      "metadata": {
        "id": "HzDgel71Rb0Z",
        "outputId": "c36cc879-6d9d-45df-f17c-4036cf365370",
        "colab": {
          "base_uri": "https://localhost:8080/"
        }
      },
      "execution_count": 16,
      "outputs": [
        {
          "output_type": "stream",
          "name": "stdout",
          "text": [
            "Resultado: [1.]\n"
          ]
        }
      ]
    },
    {
      "cell_type": "markdown",
      "source": [
        "## 13.  Calcule o determinante de uma matriz 6x6 de números aleatórios entre -10 e 10\n"
      ],
      "metadata": {
        "id": "tMBLzwKZS9kd"
      }
    },
    {
      "cell_type": "code",
      "source": [
        "from scipy import linalg\n",
        "import numpy as np\n",
        "\n",
        "matriz = np.random.randint(-10, 11, size=(6, 6))\n",
        "determinante = linalg.det(matriz)\n",
        "\n",
        "print(f\"Matriz: {matriz}\")\n",
        "print(f\"Determinante: {determinante}\")"
      ],
      "metadata": {
        "id": "FNB-O3STTKkb",
        "outputId": "fbd2c46e-ee4c-4a24-8f22-f4b0a3f2959f",
        "colab": {
          "base_uri": "https://localhost:8080/"
        }
      },
      "execution_count": 17,
      "outputs": [
        {
          "output_type": "stream",
          "name": "stdout",
          "text": [
            "Matriz: [[  7  -6   8   8   4  -7]\n",
            " [ -3  -8 -10   0  -5   2]\n",
            " [ -7   7   6   7   6 -10]\n",
            " [  8  -4  -8   4  -2  10]\n",
            " [ -3   3  -9  -8  -4   6]\n",
            " [ -2  -7  -5  -6  -2  -2]]\n",
            "Determinante: -154856.0\n"
          ]
        }
      ]
    },
    {
      "cell_type": "markdown",
      "source": [
        "## 14.  Utilize a função de otimização multivariada para minimizar **`f(x, y) = (x−2)² + (y − 3)²`**\n"
      ],
      "metadata": {
        "id": "GitD4hegUA15"
      }
    },
    {
      "cell_type": "code",
      "source": [
        "from scipy.optimize import minimize\n",
        "\n",
        "\n",
        "def f(x):\n",
        "  return (x[0] - 2)**2 + (x[1] - 3)**2\n",
        "\n",
        "resultado = minimize(f, [0, 0])\n",
        "\n",
        "print(f\"Resultado: {resultado.x}\")"
      ],
      "metadata": {
        "id": "nFl3T7f_UbGH",
        "outputId": "e7e8a9d4-98d5-4605-e36b-5847348eadfd",
        "colab": {
          "base_uri": "https://localhost:8080/"
        }
      },
      "execution_count": 22,
      "outputs": [
        {
          "output_type": "stream",
          "name": "stdout",
          "text": [
            "Resultado: [1.99999999 2.99999999]\n"
          ]
        }
      ]
    },
    {
      "cell_type": "markdown",
      "source": [
        "## 15.  Calcule a transformada de Fourier inversa de um sinal complexo gerado aleatoriamente.\n"
      ],
      "metadata": {
        "id": "WMyZHoDSVzGU"
      }
    },
    {
      "cell_type": "code",
      "source": [
        "from scipy.fft import fft\n",
        "import numpy as np\n",
        "\n",
        "sinal = np.random.rand(100) + 0.5*np.random.rand(100)*1j\n",
        "sinal_inverso = fft(sinal)\n",
        "\n",
        "print(f\"Sinal: {sinal}\")\n",
        "print(f\"Sinal inverso: {sinal_inverso}\")"
      ],
      "metadata": {
        "id": "7foqjqk_V93q",
        "outputId": "51f0cffa-cd08-44d1-a131-1282d59c6e61",
        "colab": {
          "base_uri": "https://localhost:8080/"
        }
      },
      "execution_count": 23,
      "outputs": [
        {
          "output_type": "stream",
          "name": "stdout",
          "text": [
            "Sinal: [0.63132619+0.41206566j 0.32475413+0.02204329j 0.36813796+0.0836128j\n",
            " 0.85893669+0.42716404j 0.88273243+0.15727198j 0.13602624+0.21296772j\n",
            " 0.25563309+0.13612892j 0.10005106+0.20442032j 0.47127098+0.04117811j\n",
            " 0.43470214+0.20665785j 0.11922152+0.01684981j 0.88879157+0.02178228j\n",
            " 0.04014291+0.2095954j  0.65947312+0.41385452j 0.83513404+0.16210438j\n",
            " 0.87849384+0.06975658j 0.69884853+0.1864493j  0.83208829+0.24579477j\n",
            " 0.12501595+0.18344696j 0.10077301+0.10359984j 0.7098967 +0.17051122j\n",
            " 0.02262747+0.09510402j 0.08183087+0.14052952j 0.22528923+0.00800202j\n",
            " 0.86165038+0.04475752j 0.58232366+0.29806646j 0.26742013+0.04745898j\n",
            " 0.70785929+0.31602486j 0.04489176+0.1917578j  0.30446439+0.34228811j\n",
            " 0.79913645+0.30303149j 0.18827576+0.24459898j 0.60620343+0.08112657j\n",
            " 0.53241229+0.07990678j 0.7223849 +0.37391614j 0.92099934+0.19081216j\n",
            " 0.22787425+0.25028539j 0.58819103+0.12040765j 0.85044531+0.38485859j\n",
            " 0.54560415+0.14339651j 0.34533869+0.14945077j 0.64442507+0.28723622j\n",
            " 0.88452834+0.25300741j 0.40796504+0.44768011j 0.26507455+0.30283265j\n",
            " 0.45822244+0.33636378j 0.62878414+0.02470738j 0.08728598+0.36888151j\n",
            " 0.7924434 +0.19334692j 0.27158811+0.2670503j  0.87686671+0.22363708j\n",
            " 0.79060808+0.0462169j  0.77766838+0.02201955j 0.59959939+0.17717132j\n",
            " 0.60758223+0.29443583j 0.69372985+0.17244398j 0.38716585+0.30047403j\n",
            " 0.44799718+0.30042054j 0.83262388+0.32766614j 0.77609249+0.34673548j\n",
            " 0.30353147+0.15064652j 0.61421173+0.01100782j 0.4198633 +0.20797559j\n",
            " 0.68612608+0.28957802j 0.40503012+0.1435033j  0.40851671+0.20875484j\n",
            " 0.49999746+0.13003729j 0.48787807+0.10215663j 0.66802436+0.46829658j\n",
            " 0.46145506+0.21453461j 0.51570977+0.11404984j 0.27547376+0.40846581j\n",
            " 0.91114024+0.25229782j 0.19255023+0.42712461j 0.50842399+0.09211888j\n",
            " 0.7785236 +0.09788418j 0.09673145+0.43736625j 0.40610651+0.4986266j\n",
            " 0.91434089+0.09428026j 0.11151129+0.43971872j 0.4109776 +0.16333279j\n",
            " 0.56279037+0.45400296j 0.00151877+0.36200619j 0.29433487+0.03159589j\n",
            " 0.26606276+0.36306516j 0.35693272+0.00307653j 0.58928805+0.27702702j\n",
            " 0.38613899+0.4903418j  0.45813636+0.08628969j 0.05753935+0.42141965j\n",
            " 0.88147893+0.43886195j 0.84815448+0.24657919j 0.03076037+0.2422972j\n",
            " 0.10043682+0.02112289j 0.64999819+0.40782318j 0.04389451+0.47262415j\n",
            " 0.73144221+0.25373596j 0.16019446+0.46504186j 0.86760508+0.1192197j\n",
            " 0.51828957+0.01227372j]\n",
            "Sinal inverso: [ 4.88880449e+01+2.23055248e+01j -5.68031217e+00-8.36917243e-01j\n",
            " -7.79577398e-03-1.12998945e+00j  1.16883363e+00-3.09423877e-01j\n",
            " -1.10109083e+00-1.07379147e-01j -1.15733696e+00+3.62602350e+00j\n",
            "  1.12084350e+00-1.73149463e+00j  2.67977222e+00+1.06026913e+00j\n",
            "  4.30768525e+00-4.04941588e+00j  1.03989323e+00-1.88718473e+00j\n",
            " -1.75460836e+00-8.28483098e-01j -2.33696427e+00+2.55225352e+00j\n",
            "  1.63299276e+00-1.17055244e+00j -5.71019241e-01-2.28904925e+00j\n",
            " -9.73982847e-01-2.77835181e-01j -5.92944934e-01+7.70570205e-02j\n",
            " -1.67387083e+00+9.72315902e-01j -1.19680555e+00+1.06599168e+00j\n",
            " -2.16135233e+00-5.84288260e-01j  1.37215799e+00+1.51648174e+00j\n",
            "  8.79161019e-01+6.78142367e-01j  3.57688696e+00+6.07536648e-01j\n",
            " -1.80791344e+00+2.28503178e+00j -3.31902744e+00+4.78074791e+00j\n",
            "  3.30329001e+00+2.56099174e+00j -1.65129258e+00+2.51661448e+00j\n",
            "  5.93169959e-01-1.56892555e-02j -6.16261364e-01-2.92049235e+00j\n",
            " -1.14125276e+00+8.43589515e-01j  2.94694271e+00+1.69724697e+00j\n",
            " -1.92256821e-02-2.65205835e+00j  2.73853986e+00-2.83280712e+00j\n",
            " -1.28730248e-01+2.67297841e+00j  1.08265114e-01+4.72980556e+00j\n",
            "  3.17287739e-01+2.10632954e+00j  2.21503705e-01-1.60451525e+00j\n",
            "  3.47573107e+00+1.90159429e+00j  2.31605714e+00+4.09348063e+00j\n",
            " -3.97464346e+00-1.97894466e+00j -6.45255886e+00-5.55426741e-01j\n",
            "  1.28343954e-01-2.07174255e+00j -7.03091391e-02-1.74003156e+00j\n",
            " -1.95271114e+00-2.10541974e+00j -1.90165288e-01+9.25981119e-01j\n",
            " -1.99209465e-01+2.93576248e+00j  1.97054624e-01+1.20150615e+00j\n",
            "  4.31824037e+00-4.32768775e+00j  2.00261490e+00-9.09835409e-02j\n",
            "  2.00794671e+00-2.19769918e+00j  4.50553380e-01-1.41206506e+00j\n",
            "  3.36662579e+00-1.36003394e+00j  5.67650564e-01+1.20213904e+00j\n",
            "  1.38530041e+00+2.63021704e+00j -1.90265451e-01+1.12869385e+00j\n",
            "  4.37254029e+00+1.52173523e+00j -2.02407644e+00+2.84326556e-01j\n",
            "  2.72219815e+00+5.16716237e-01j -1.82279623e+00-1.75153429e+00j\n",
            " -2.99094320e+00+1.97568251e+00j -6.49374850e-02+1.63465827e+00j\n",
            "  2.30742759e+00+2.16975495e+00j -2.14433377e+00+1.71789961e+00j\n",
            " -2.14483256e+00+7.11319751e+00j -1.53897686e+00+7.02482730e-01j\n",
            "  1.05344503e+00-1.21347383e+00j  1.41607693e+00+1.51352547e+00j\n",
            " -1.40375859e+00+4.81868681e-01j -8.50067381e-01-4.80138038e+00j\n",
            " -3.04706059e-02+1.63011348e+00j  3.58689510e+00+4.30112636e+00j\n",
            " -5.34461798e-01+5.25451260e+00j  3.10630642e+00+9.31637159e-01j\n",
            " -1.68090753e+00-1.64440494e+00j -7.97071133e-01+8.18636446e-01j\n",
            "  1.44614430e+00+6.25321859e-02j -2.50591661e+00-2.36628889e+00j\n",
            "  1.44278607e+00-1.14294997e+00j  5.56027772e-01-4.20741698e+00j\n",
            "  2.93355051e+00+1.03525565e-01j  6.68056596e-01+1.84507886e+00j\n",
            "  2.05275732e+00-2.05574201e+00j  5.41958553e-02-2.05720430e+00j\n",
            " -2.60736476e+00+3.96677633e-02j -3.41849234e+00+1.50584165e-01j\n",
            " -2.57319315e+00-7.47305440e-02j -2.48267432e+00-2.24168874e+00j\n",
            " -3.74173416e-01+9.92051603e-01j -5.17326494e-01-1.41840679e+00j\n",
            "  2.16578997e+00-1.82373985e+00j -1.86858296e+00-3.46492592e+00j\n",
            "  6.20775689e-01-1.55034682e-02j -6.42065221e-01+2.03777243e+00j\n",
            "  2.71513763e+00+1.48281301e+00j  1.59661784e+00+1.71318719e+00j\n",
            "  2.87373641e+00-7.75268022e-02j  6.66179197e-01-3.51079226e+00j\n",
            " -2.13308299e-01+4.26505740e-02j  6.53376547e-01+7.72456473e-01j\n",
            "  4.42849364e+00+1.14262211e+00j -1.26490400e+00+5.14763665e-01j]\n"
          ]
        }
      ]
    },
    {
      "cell_type": "markdown",
      "source": [
        "## 16. Resolva a equação diferencial de segunda ordem d²y/dx² +y = 0, com condições iniciais y(0) = 1 e y¹(0) = 0"
      ],
      "metadata": {
        "id": "4r5nRkIiWhwD"
      }
    },
    {
      "cell_type": "code",
      "source": [
        "from scipy.integrate import solve_ivp\n",
        "import numpy as np\n",
        "\n",
        "def equacao_diferencial(t, y):\n",
        "  return y\n",
        "\n",
        "resultado = solve_ivp(equacao_diferencial, [0, 10], [1, 0], method='RK45')\n",
        "\n",
        "print(f\"Resultado: {resultado.y}\")\n"
      ],
      "metadata": {
        "id": "uyg7He7KW7yR",
        "outputId": "507e5367-5d19-4907-dbc2-edbd86e0ed13",
        "colab": {
          "base_uri": "https://localhost:8080/"
        }
      },
      "execution_count": 24,
      "outputs": [
        {
          "output_type": "stream",
          "name": "stdout",
          "text": [
            "Resultado: [[1.00000000e+00 1.11315550e+00 3.14156385e+00 1.21790893e+01\n",
            "  5.38987081e+01 2.53113766e+02 1.22170390e+03 5.97308326e+03\n",
            "  2.19978158e+04]\n",
            " [0.00000000e+00 0.00000000e+00 0.00000000e+00 0.00000000e+00\n",
            "  0.00000000e+00 0.00000000e+00 0.00000000e+00 0.00000000e+00\n",
            "  0.00000000e+00]]\n"
          ]
        }
      ]
    },
    {
      "cell_type": "markdown",
      "source": [
        "## 17. Encontre a raiz cúbica de 27 utilizando SciPy\n"
      ],
      "metadata": {
        "id": "OfidmANQX3gV"
      }
    },
    {
      "cell_type": "code",
      "source": [
        "from scipy.optimize import root\n",
        "\n",
        "def f(x):\n",
        "  return x**3 - 27\n",
        "\n",
        "resultado = root(f, 0)\n",
        "\n",
        "print(f\"Resultado: {resultado.x}\")"
      ],
      "metadata": {
        "id": "cgvgtPfPX-CN",
        "outputId": "19a7dd9b-ba8d-4360-b62a-ffeca276a332",
        "colab": {
          "base_uri": "https://localhost:8080/"
        }
      },
      "execution_count": 25,
      "outputs": [
        {
          "output_type": "stream",
          "name": "stdout",
          "text": [
            "Resultado: [0.0432]\n"
          ]
        }
      ]
    },
    {
      "cell_type": "markdown",
      "source": [
        "## 18. Interpole os valores de uma função f(x) = x² nos pontos [1, 2, 3, 4, 5] utilizando spline cúbica"
      ],
      "metadata": {
        "id": "gN399iMFYfG8"
      }
    },
    {
      "cell_type": "code",
      "source": [
        "from scipy.interpolate import interp1d\n",
        "import numpy as np\n",
        "\n",
        "x = np.array([1, 2, 3, 4, 5])\n",
        "\n",
        "def f(x):\n",
        "  return x**2\n",
        "\n",
        "y = f(x)\n",
        "\n",
        "interpolacao = interp1d(x, y, kind='cubic')\n",
        "\n",
        "x_novos = np.linspace(1, 5, 100)\n",
        "y_novos = interpolacao(x_novos)\n",
        "\n",
        "print(f\"Valores interpolados: {y_novos}\")\n"
      ],
      "metadata": {
        "id": "czmru0NHYxxb",
        "outputId": "67e497da-c4b4-4b51-8fbb-6c7376fd4331",
        "colab": {
          "base_uri": "https://localhost:8080/"
        }
      },
      "execution_count": 26,
      "outputs": [
        {
          "output_type": "stream",
          "name": "stdout",
          "text": [
            "Valores interpolados: [ 1.          1.08244057  1.16814611  1.25711662  1.34935211  1.44485257\n",
            "  1.543618    1.6456484   1.75094378  1.85950413  1.97132946  2.08641975\n",
            "  2.20477502  2.32639527  2.45128048  2.57943067  2.71084583  2.84552597\n",
            "  2.98347107  3.12468115  3.26915621  3.41689624  3.56790123  3.72217121\n",
            "  3.87970615  4.04050607  4.20457096  4.37190083  4.54249566  4.71635547\n",
            "  4.89348026  5.07387001  5.25752474  5.44444444  5.63462912  5.82807877\n",
            "  6.02479339  6.22477298  6.42801755  6.63452709  6.8443016   7.05734109\n",
            "  7.27364555  7.49321498  7.71604938  7.94214876  8.17151311  8.40414243\n",
            "  8.64003673  8.879196    9.12162024  9.36730946  9.61626365  9.86848281\n",
            " 10.12396694 10.38271605 10.64473013 10.91000918 11.17855321 11.45036221\n",
            " 11.72543618 12.00377512 12.28537904 12.57024793 12.8583818  13.14978063\n",
            " 13.44444444 13.74237323 14.04356698 14.34802571 14.65574941 14.96673809\n",
            " 15.28099174 15.59851036 15.91929395 16.24334252 16.57065606 16.90123457\n",
            " 17.23507805 17.57218651 17.91255994 18.25619835 18.60310172 18.95327007\n",
            " 19.3067034  19.66340169 20.02336496 20.3865932  20.75308642 21.12284461\n",
            " 21.49586777 21.8721559  22.25170901 22.63452709 23.02061014 23.40995817\n",
            " 23.80257117 24.19844914 24.59759208 25.        ]\n"
          ]
        }
      ]
    },
    {
      "cell_type": "markdown",
      "source": [
        "## 19. Realize a transformada de Fourier de um sinal discreto composto de senos e cossenos."
      ],
      "metadata": {
        "id": "Nn0Cz0o_Zmgw"
      }
    },
    {
      "cell_type": "code",
      "source": [],
      "metadata": {
        "id": "FbJnjMzSZxRv"
      },
      "execution_count": null,
      "outputs": []
    }
  ]
}