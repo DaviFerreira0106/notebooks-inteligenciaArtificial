{
  "nbformat": 4,
  "nbformat_minor": 0,
  "metadata": {
    "colab": {
      "provenance": [],
      "authorship_tag": "ABX9TyMWZLyUtQVABKpwaQTdZXfG",
      "include_colab_link": true
    },
    "kernelspec": {
      "name": "python3",
      "display_name": "Python 3"
    },
    "language_info": {
      "name": "python"
    }
  },
  "cells": [
    {
      "cell_type": "markdown",
      "metadata": {
        "id": "view-in-github",
        "colab_type": "text"
      },
      "source": [
        "<a href=\"https://colab.research.google.com/github/DaviFerreira0106/notebooks-inteligenciaArtificial/blob/main/Exercicio_Scipy.ipynb\" target=\"_parent\"><img src=\"https://colab.research.google.com/assets/colab-badge.svg\" alt=\"Open In Colab\"/></a>"
      ]
    },
    {
      "cell_type": "markdown",
      "source": [
        "# Exercícios de SciPy\n"
      ],
      "metadata": {
        "id": "0bv4hHt32qM5"
      }
    },
    {
      "cell_type": "markdown",
      "source": [
        "## 1. Calcule a integral da função f(x) = x² sin(x) no intervalo de 0 a π"
      ],
      "metadata": {
        "id": "Kx6Iuj1h24YG"
      }
    },
    {
      "cell_type": "code",
      "source": [
        "from scipy import integrate\n",
        "import numpy as np\n",
        "\n",
        "def f(x):\n",
        "  return x**2\n",
        "\n",
        "resultado, erro = integrate.quad(f,0,np.pi)\n",
        "\n",
        "print(\"Resultado: \", resultado)\n",
        "print(\"Erro: \", erro)"
      ],
      "metadata": {
        "colab": {
          "base_uri": "https://localhost:8080/"
        },
        "id": "etgfjPS_3mxf",
        "outputId": "2835b38a-20ad-4938-bfd5-e57bdadfdcaa"
      },
      "execution_count": 1,
      "outputs": [
        {
          "output_type": "stream",
          "name": "stdout",
          "text": [
            "Resultado:  10.335425560099939\n",
            "Erro:  1.1474627426122306e-13\n"
          ]
        }
      ]
    },
    {
      "cell_type": "markdown",
      "source": [
        "## 2. Resolva a equação diferencial **`dy/dx = x − y, com y(0) = 1`**, no intervalo de 0 a 10."
      ],
      "metadata": {
        "id": "9AoXO73283LM"
      }
    },
    {
      "cell_type": "code",
      "source": [
        "from scipy.integrate import solve_ivp\n",
        "import numpy as np\n",
        "\n",
        "def equacao_diferencial(x, y):\n",
        "  return x - y\n",
        "\n",
        "resultado = solve_ivp(equacao_diferencial, [0, 10], [1], t_eval=np.linspace(0, 10, 100))\n",
        "\n",
        "print(f\"Resultado: {resultado}\")"
      ],
      "metadata": {
        "colab": {
          "base_uri": "https://localhost:8080/"
        },
        "id": "slrfdNHU9x27",
        "outputId": "7eef019d-e594-4e1f-b91a-350d3307cd52"
      },
      "execution_count": 2,
      "outputs": [
        {
          "output_type": "stream",
          "name": "stdout",
          "text": [
            "Resultado:   message: The solver successfully reached the end of the integration interval.\n",
            "  success: True\n",
            "   status: 0\n",
            "        t: [ 0.000e+00  1.010e-01 ...  9.899e+00  1.000e+01]\n",
            "        y: [[ 1.000e+00  9.089e-01 ...  8.899e+00  9.000e+00]]\n",
            "      sol: None\n",
            " t_events: None\n",
            " y_events: None\n",
            "     nfev: 50\n",
            "     njev: 0\n",
            "      nlu: 0\n"
          ]
        }
      ]
    },
    {
      "cell_type": "markdown",
      "source": [
        "## 3. Encontre as raízes da função **`f(x) = X*X*X*X - 3x³ + 2`** utilizando SciPy."
      ],
      "metadata": {
        "id": "GQ-XrSxf_5le"
      }
    },
    {
      "cell_type": "code",
      "source": [
        "from scipy.optimize import root\n",
        "\n",
        "def f(x):\n",
        "  return x**4 - 3*x**3 + 2\n",
        "\n",
        "resultado = root(f, 0)\n",
        "\n",
        "print(f\"Resultado: {resultado.x}\")\n"
      ],
      "metadata": {
        "colab": {
          "base_uri": "https://localhost:8080/"
        },
        "id": "6mM820kdExxn",
        "outputId": "d1287d92-cf44-4347-fcda-86d5b85a836d"
      },
      "execution_count": 6,
      "outputs": [
        {
          "output_type": "stream",
          "name": "stdout",
          "text": [
            "Resultado: [0.]\n"
          ]
        }
      ]
    },
    {
      "cell_type": "markdown",
      "source": [
        "## 4. Use a função de otimização de SciPy para maximizar f(x) = −x² + 4x + 1."
      ],
      "metadata": {
        "id": "x_dV1JP0GBh3"
      }
    },
    {
      "cell_type": "code",
      "source": [
        "from scipy.optimize import minimize\n",
        "\n",
        "def f(x):\n",
        "  return -x**2 + 4*x + 1\n",
        "\n",
        "resultado = minimize(f, 0)\n",
        "\n",
        "print(f\"Resultado: {resultado.x}\")"
      ],
      "metadata": {
        "colab": {
          "base_uri": "https://localhost:8080/"
        },
        "id": "hFPozrrNGUhs",
        "outputId": "6c6a97f0-241a-4e43-f073-c54367f2747d"
      },
      "execution_count": 7,
      "outputs": [
        {
          "output_type": "stream",
          "name": "stdout",
          "text": [
            "Resultado: [-1034.24]\n"
          ]
        }
      ]
    },
    {
      "cell_type": "markdown",
      "source": [
        "## 5. Calcule a transformada de Fourier de um sinal composto de sin(2πt) e cos(4πt)."
      ],
      "metadata": {
        "id": "fBV6AEOTHG7E"
      }
    },
    {
      "cell_type": "code",
      "source": [
        "from scipy.fft import fft\n",
        "import numpy as np\n",
        "\n",
        "t = np.linspace()"
      ],
      "metadata": {
        "id": "VvfNdetpHa9a"
      },
      "execution_count": null,
      "outputs": []
    }
  ]
}