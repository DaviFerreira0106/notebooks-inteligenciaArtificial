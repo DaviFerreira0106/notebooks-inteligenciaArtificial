{
  "nbformat": 4,
  "nbformat_minor": 0,
  "metadata": {
    "colab": {
      "provenance": [],
      "authorship_tag": "ABX9TyPvSjDKPBse6lkWu/Q5i7NW",
      "include_colab_link": true
    },
    "kernelspec": {
      "name": "python3",
      "display_name": "Python 3"
    },
    "language_info": {
      "name": "python"
    }
  },
  "cells": [
    {
      "cell_type": "markdown",
      "metadata": {
        "id": "view-in-github",
        "colab_type": "text"
      },
      "source": [
        "<a href=\"https://colab.research.google.com/github/DaviFerreira0106/notebooks-inteligenciaArtificial/blob/main/Utiliza%C3%A7%C3%A3oScipy.ipynb\" target=\"_parent\"><img src=\"https://colab.research.google.com/assets/colab-badge.svg\" alt=\"Open In Colab\"/></a>"
      ]
    },
    {
      "cell_type": "markdown",
      "source": [
        "# Utilizando **`SciPy`** para calcular a média e desvio padrão de uma array 1D"
      ],
      "metadata": {
        "id": "ZXi_UVyEHzg_"
      }
    },
    {
      "cell_type": "markdown",
      "source": [
        "## Importação da biblioteca"
      ],
      "metadata": {
        "id": "0C3G_rOUIOCt"
      }
    },
    {
      "cell_type": "code",
      "source": [
        "from scipy import stats"
      ],
      "metadata": {
        "id": "AWe3WC2vINVf"
      },
      "execution_count": 1,
      "outputs": []
    },
    {
      "cell_type": "markdown",
      "source": [
        "## Calculo de média e desvio padrão de um array 1D"
      ],
      "metadata": {
        "id": "KcF4veDsIbId"
      }
    },
    {
      "cell_type": "code",
      "source": [
        "# Criação da matriz 1D\n",
        "matriz = [1, 2, 3, 4, 5, 6, 7, 8, 9, 10]\n",
        "\n",
        "media = stats.tmean(matriz)\n",
        "desvioPadrao = stats.tstd(matriz)\n",
        "\n",
        "print(f'Média: {media}')\n",
        "print(f'Desvio padrão: {desvioPadrao}')"
      ],
      "metadata": {
        "colab": {
          "base_uri": "https://localhost:8080/"
        },
        "id": "1S1xocaCIhu_",
        "outputId": "afa1465f-5e35-4802-e395-0a550b9cd15a"
      },
      "execution_count": 2,
      "outputs": [
        {
          "output_type": "stream",
          "name": "stdout",
          "text": [
            "Média: 5.5\n",
            "Desvio padrão: 3.0276503540974917\n"
          ]
        }
      ]
    }
  ]
}