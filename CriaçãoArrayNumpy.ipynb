{
  "nbformat": 4,
  "nbformat_minor": 0,
  "metadata": {
    "colab": {
      "provenance": [],
      "authorship_tag": "ABX9TyPyE9Kwu03nHuItQ7tXsUco",
      "include_colab_link": true
    },
    "kernelspec": {
      "name": "python3",
      "display_name": "Python 3"
    },
    "language_info": {
      "name": "python"
    }
  },
  "cells": [
    {
      "cell_type": "markdown",
      "metadata": {
        "id": "view-in-github",
        "colab_type": "text"
      },
      "source": [
        "<a href=\"https://colab.research.google.com/github/DaviFerreira0106/notebooks-inteligenciaArtificial/blob/main/Cria%C3%A7%C3%A3oArrayNumpy.ipynb\" target=\"_parent\"><img src=\"https://colab.research.google.com/assets/colab-badge.svg\" alt=\"Open In Colab\"/></a>"
      ]
    },
    {
      "cell_type": "markdown",
      "source": [
        "# Criação de array e calculos matematicos, utilizando **`Numpy`**"
      ],
      "metadata": {
        "id": "g2PTTxuFQ2Gf"
      }
    },
    {
      "cell_type": "markdown",
      "source": [
        "## Importação da biblioteca"
      ],
      "metadata": {
        "id": "N3vz1NfARIxN"
      }
    },
    {
      "cell_type": "code",
      "source": [
        "import numpy as np"
      ],
      "metadata": {
        "id": "gbLrwgQuRF8l"
      },
      "execution_count": 1,
      "outputs": []
    },
    {
      "cell_type": "markdown",
      "source": [
        "## Criação da array"
      ],
      "metadata": {
        "id": "tadIRqp6RTGG"
      }
    },
    {
      "cell_type": "code",
      "source": [
        "array = np.array([1, 2, 3, 4, 5])"
      ],
      "metadata": {
        "id": "nEgZCqnBR5GU"
      },
      "execution_count": 2,
      "outputs": []
    },
    {
      "cell_type": "markdown",
      "source": [
        "## operações matemáticas básicas"
      ],
      "metadata": {
        "id": "trGJPxGaSIqE"
      }
    },
    {
      "cell_type": "code",
      "source": [
        "array_soma = array + 10\n",
        "array_mult = array * 2\n",
        "array_sub = array - 5\n",
        "array_div = array / 2\n",
        "\n",
        "print(f\"A soma é: {array_soma}\")\n",
        "print(f\"A multiplicação é: {array_mult}\")\n",
        "print(f\"A subtração é: {array_sub}\")\n",
        "print(f\"A divisão é: {array_div}\")"
      ],
      "metadata": {
        "colab": {
          "base_uri": "https://localhost:8080/"
        },
        "id": "D0kc4BPCSOqM",
        "outputId": "f6bbb3ca-7cba-43f0-83fa-5545396444b0"
      },
      "execution_count": 3,
      "outputs": [
        {
          "output_type": "stream",
          "name": "stdout",
          "text": [
            "A soma é: [11 12 13 14 15]\n",
            "A multiplicação é: [ 2  4  6  8 10]\n",
            "A subtração é: [-4 -3 -2 -1  0]\n",
            "A divisão é: [0.5 1.  1.5 2.  2.5]\n"
          ]
        }
      ]
    },
    {
      "cell_type": "markdown",
      "source": [
        "## Criando **`array 2D`** (ou matriz 2x2, ou ainda matriz Bidimensional)\n"
      ],
      "metadata": {
        "id": "YPwQBYEBSvtz"
      }
    },
    {
      "cell_type": "code",
      "source": [
        "matriz = np.array([[1, 2, 4, 6], [3, 4, 8, 7]])\n",
        "\n",
        "print(f\"Matriz: \\n{matriz}\")"
      ],
      "metadata": {
        "colab": {
          "base_uri": "https://localhost:8080/"
        },
        "id": "kpi7bHr4S_wu",
        "outputId": "1cc15f57-7ddc-4aad-ef86-716e8e2c73ca"
      },
      "execution_count": 5,
      "outputs": [
        {
          "output_type": "stream",
          "name": "stdout",
          "text": [
            "Matriz: \n",
            "[[1 2 4 6]\n",
            " [3 4 8 7]]\n"
          ]
        }
      ]
    },
    {
      "cell_type": "markdown",
      "source": [
        "## Oprações matemáticas básicas com a matriz"
      ],
      "metadata": {
        "id": "tKkvWX0UTtOT"
      }
    },
    {
      "cell_type": "code",
      "source": [
        "matriz_soma = matriz + 5\n",
        "matriz_sub = matriz - 6\n",
        "matriz_mult = matriz * 2\n",
        "matriz_div = matriz / 3\n",
        "\n",
        "print(f\"A soma é: \\n{matriz_soma}\")\n",
        "print(f\"A subtração é: \\n{matriz_sub}\")\n",
        "print(f\"A multiplicação é: \\n{matriz_mult}\")\n",
        "print(f\"A divisão é: \\n{matriz_div}\")"
      ],
      "metadata": {
        "colab": {
          "base_uri": "https://localhost:8080/"
        },
        "id": "BwV5GVIXT0Eb",
        "outputId": "583f391c-02f3-4927-d594-95dbac29284b"
      },
      "execution_count": 6,
      "outputs": [
        {
          "output_type": "stream",
          "name": "stdout",
          "text": [
            "A soma é: \n",
            "[[ 6  7  9 11]\n",
            " [ 8  9 13 12]]\n",
            "A subtração é: \n",
            "[[-5 -4 -2  0]\n",
            " [-3 -2  2  1]]\n",
            "A multiplicação é: \n",
            "[[ 2  4  8 12]\n",
            " [ 6  8 16 14]]\n",
            "A divisão é: \n",
            "[[0.33333333 0.66666667 1.33333333 2.        ]\n",
            " [1.         1.33333333 2.66666667 2.33333333]]\n"
          ]
        }
      ]
    }
  ]
}