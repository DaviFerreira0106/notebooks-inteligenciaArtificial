{
  "nbformat": 4,
  "nbformat_minor": 0,
  "metadata": {
    "colab": {
      "provenance": [],
      "authorship_tag": "ABX9TyPIr6LmntyFe8NYCQHeZNGq",
      "include_colab_link": true
    },
    "kernelspec": {
      "name": "python3",
      "display_name": "Python 3"
    },
    "language_info": {
      "name": "python"
    }
  },
  "cells": [
    {
      "cell_type": "markdown",
      "metadata": {
        "id": "view-in-github",
        "colab_type": "text"
      },
      "source": [
        "<a href=\"https://colab.research.google.com/github/DaviFerreira0106/notebooks-inteligenciaArtificial/blob/main/Exercicios_Pandas.ipynb\" target=\"_parent\"><img src=\"https://colab.research.google.com/assets/colab-badge.svg\" alt=\"Open In Colab\"/></a>"
      ]
    },
    {
      "cell_type": "markdown",
      "source": [
        "# Exercício Pandas"
      ],
      "metadata": {
        "id": "9p9bvXUwGPxR"
      }
    },
    {
      "cell_type": "markdown",
      "source": [
        "## 1. Crie um DataFrame contendo as colunas Produto, Preço e Quantidade com 5 produtos."
      ],
      "metadata": {
        "id": "sQyLL5RQGZZW"
      }
    },
    {
      "cell_type": "code",
      "source": [
        "import pandas as pd\n",
        "\n",
        "dados = {'Produto': ['Teclado', 'Monitor', 'Gabinete', 'Cooler', 'Placa-Mãe'],\n",
        "         'Preço': [21, 60, 220, 100, 500],\n",
        "         'Quantidade': [1, 3, 2, 4, 3],\n",
        "         }\n",
        "\n",
        "df = pd.DataFrame(dados)\n",
        "print(df)"
      ],
      "metadata": {
        "id": "JYx7T-soGi7E",
        "outputId": "4d05c21e-718e-4412-d526-11dfe15f3ab3",
        "colab": {
          "base_uri": "https://localhost:8080/"
        }
      },
      "execution_count": null,
      "outputs": [
        {
          "output_type": "stream",
          "name": "stdout",
          "text": [
            "     Produto  Preço  Quantidade\n",
            "0    Teclado     21           1\n",
            "1    Monitor     60           3\n",
            "2   Gabinete    220           2\n",
            "3     Cooler    100           4\n",
            "4  Placa-Mãe    500           3\n"
          ]
        }
      ]
    },
    {
      "cell_type": "markdown",
      "source": [
        "## 2. Leia um arquivo Excel chamado vendas.xlsx e exiba as 10 primeiras linhas"
      ],
      "metadata": {
        "id": "ce6gPU8s51Ax"
      }
    },
    {
      "cell_type": "code",
      "source": [
        "import pandas as pd\n",
        "\n",
        "df = pd.read_excel('vendas.xlsx')\n",
        "print(df.head(10))"
      ],
      "metadata": {
        "id": "77yzeKib580f",
        "outputId": "4aa2e272-1b08-4268-97d1-8ca27beaef9c",
        "colab": {
          "base_uri": "https://localhost:8080/",
          "height": 755
        }
      },
      "execution_count": null,
      "outputs": [
        {
          "output_type": "error",
          "ename": "FileNotFoundError",
          "evalue": "[Errno 2] No such file or directory: 'vendas.xlsx'",
          "traceback": [
            "\u001b[0;31m---------------------------------------------------------------------------\u001b[0m",
            "\u001b[0;31mFileNotFoundError\u001b[0m                         Traceback (most recent call last)",
            "\u001b[0;32m<ipython-input-2-a7a90ad0e720>\u001b[0m in \u001b[0;36m<cell line: 3>\u001b[0;34m()\u001b[0m\n\u001b[1;32m      1\u001b[0m \u001b[0;32mimport\u001b[0m \u001b[0mpandas\u001b[0m \u001b[0;32mas\u001b[0m \u001b[0mpd\u001b[0m\u001b[0;34m\u001b[0m\u001b[0;34m\u001b[0m\u001b[0m\n\u001b[1;32m      2\u001b[0m \u001b[0;34m\u001b[0m\u001b[0m\n\u001b[0;32m----> 3\u001b[0;31m \u001b[0mdf\u001b[0m \u001b[0;34m=\u001b[0m \u001b[0mpd\u001b[0m\u001b[0;34m.\u001b[0m\u001b[0mread_excel\u001b[0m\u001b[0;34m(\u001b[0m\u001b[0;34m'vendas.xlsx'\u001b[0m\u001b[0;34m)\u001b[0m\u001b[0;34m\u001b[0m\u001b[0;34m\u001b[0m\u001b[0m\n\u001b[0m\u001b[1;32m      4\u001b[0m \u001b[0mprint\u001b[0m\u001b[0;34m(\u001b[0m\u001b[0mdf\u001b[0m\u001b[0;34m.\u001b[0m\u001b[0mhead\u001b[0m\u001b[0;34m(\u001b[0m\u001b[0;36m10\u001b[0m\u001b[0;34m)\u001b[0m\u001b[0;34m)\u001b[0m\u001b[0;34m\u001b[0m\u001b[0;34m\u001b[0m\u001b[0m\n",
            "\u001b[0;32m/usr/local/lib/python3.10/dist-packages/pandas/io/excel/_base.py\u001b[0m in \u001b[0;36mread_excel\u001b[0;34m(io, sheet_name, header, names, index_col, usecols, dtype, engine, converters, true_values, false_values, skiprows, nrows, na_values, keep_default_na, na_filter, verbose, parse_dates, date_parser, date_format, thousands, decimal, comment, skipfooter, storage_options, dtype_backend, engine_kwargs)\u001b[0m\n\u001b[1;32m    493\u001b[0m     \u001b[0;32mif\u001b[0m \u001b[0;32mnot\u001b[0m \u001b[0misinstance\u001b[0m\u001b[0;34m(\u001b[0m\u001b[0mio\u001b[0m\u001b[0;34m,\u001b[0m \u001b[0mExcelFile\u001b[0m\u001b[0;34m)\u001b[0m\u001b[0;34m:\u001b[0m\u001b[0;34m\u001b[0m\u001b[0;34m\u001b[0m\u001b[0m\n\u001b[1;32m    494\u001b[0m         \u001b[0mshould_close\u001b[0m \u001b[0;34m=\u001b[0m \u001b[0;32mTrue\u001b[0m\u001b[0;34m\u001b[0m\u001b[0;34m\u001b[0m\u001b[0m\n\u001b[0;32m--> 495\u001b[0;31m         io = ExcelFile(\n\u001b[0m\u001b[1;32m    496\u001b[0m             \u001b[0mio\u001b[0m\u001b[0;34m,\u001b[0m\u001b[0;34m\u001b[0m\u001b[0;34m\u001b[0m\u001b[0m\n\u001b[1;32m    497\u001b[0m             \u001b[0mstorage_options\u001b[0m\u001b[0;34m=\u001b[0m\u001b[0mstorage_options\u001b[0m\u001b[0;34m,\u001b[0m\u001b[0;34m\u001b[0m\u001b[0;34m\u001b[0m\u001b[0m\n",
            "\u001b[0;32m/usr/local/lib/python3.10/dist-packages/pandas/io/excel/_base.py\u001b[0m in \u001b[0;36m__init__\u001b[0;34m(self, path_or_buffer, engine, storage_options, engine_kwargs)\u001b[0m\n\u001b[1;32m   1548\u001b[0m                 \u001b[0mext\u001b[0m \u001b[0;34m=\u001b[0m \u001b[0;34m\"xls\"\u001b[0m\u001b[0;34m\u001b[0m\u001b[0;34m\u001b[0m\u001b[0m\n\u001b[1;32m   1549\u001b[0m             \u001b[0;32melse\u001b[0m\u001b[0;34m:\u001b[0m\u001b[0;34m\u001b[0m\u001b[0;34m\u001b[0m\u001b[0m\n\u001b[0;32m-> 1550\u001b[0;31m                 ext = inspect_excel_format(\n\u001b[0m\u001b[1;32m   1551\u001b[0m                     \u001b[0mcontent_or_path\u001b[0m\u001b[0;34m=\u001b[0m\u001b[0mpath_or_buffer\u001b[0m\u001b[0;34m,\u001b[0m \u001b[0mstorage_options\u001b[0m\u001b[0;34m=\u001b[0m\u001b[0mstorage_options\u001b[0m\u001b[0;34m\u001b[0m\u001b[0;34m\u001b[0m\u001b[0m\n\u001b[1;32m   1552\u001b[0m                 )\n",
            "\u001b[0;32m/usr/local/lib/python3.10/dist-packages/pandas/io/excel/_base.py\u001b[0m in \u001b[0;36minspect_excel_format\u001b[0;34m(content_or_path, storage_options)\u001b[0m\n\u001b[1;32m   1400\u001b[0m         \u001b[0mcontent_or_path\u001b[0m \u001b[0;34m=\u001b[0m \u001b[0mBytesIO\u001b[0m\u001b[0;34m(\u001b[0m\u001b[0mcontent_or_path\u001b[0m\u001b[0;34m)\u001b[0m\u001b[0;34m\u001b[0m\u001b[0;34m\u001b[0m\u001b[0m\n\u001b[1;32m   1401\u001b[0m \u001b[0;34m\u001b[0m\u001b[0m\n\u001b[0;32m-> 1402\u001b[0;31m     with get_handle(\n\u001b[0m\u001b[1;32m   1403\u001b[0m         \u001b[0mcontent_or_path\u001b[0m\u001b[0;34m,\u001b[0m \u001b[0;34m\"rb\"\u001b[0m\u001b[0;34m,\u001b[0m \u001b[0mstorage_options\u001b[0m\u001b[0;34m=\u001b[0m\u001b[0mstorage_options\u001b[0m\u001b[0;34m,\u001b[0m \u001b[0mis_text\u001b[0m\u001b[0;34m=\u001b[0m\u001b[0;32mFalse\u001b[0m\u001b[0;34m\u001b[0m\u001b[0;34m\u001b[0m\u001b[0m\n\u001b[1;32m   1404\u001b[0m     ) as handle:\n",
            "\u001b[0;32m/usr/local/lib/python3.10/dist-packages/pandas/io/common.py\u001b[0m in \u001b[0;36mget_handle\u001b[0;34m(path_or_buf, mode, encoding, compression, memory_map, is_text, errors, storage_options)\u001b[0m\n\u001b[1;32m    880\u001b[0m         \u001b[0;32melse\u001b[0m\u001b[0;34m:\u001b[0m\u001b[0;34m\u001b[0m\u001b[0;34m\u001b[0m\u001b[0m\n\u001b[1;32m    881\u001b[0m             \u001b[0;31m# Binary mode\u001b[0m\u001b[0;34m\u001b[0m\u001b[0;34m\u001b[0m\u001b[0m\n\u001b[0;32m--> 882\u001b[0;31m             \u001b[0mhandle\u001b[0m \u001b[0;34m=\u001b[0m \u001b[0mopen\u001b[0m\u001b[0;34m(\u001b[0m\u001b[0mhandle\u001b[0m\u001b[0;34m,\u001b[0m \u001b[0mioargs\u001b[0m\u001b[0;34m.\u001b[0m\u001b[0mmode\u001b[0m\u001b[0;34m)\u001b[0m\u001b[0;34m\u001b[0m\u001b[0;34m\u001b[0m\u001b[0m\n\u001b[0m\u001b[1;32m    883\u001b[0m         \u001b[0mhandles\u001b[0m\u001b[0;34m.\u001b[0m\u001b[0mappend\u001b[0m\u001b[0;34m(\u001b[0m\u001b[0mhandle\u001b[0m\u001b[0;34m)\u001b[0m\u001b[0;34m\u001b[0m\u001b[0;34m\u001b[0m\u001b[0m\n\u001b[1;32m    884\u001b[0m \u001b[0;34m\u001b[0m\u001b[0m\n",
            "\u001b[0;31mFileNotFoundError\u001b[0m: [Errno 2] No such file or directory: 'vendas.xlsx'"
          ]
        }
      ]
    },
    {
      "cell_type": "markdown",
      "source": [
        "## 3. Filtre um DataFrame para exibir apenas os valores onde a coluna Preço é maior que 100"
      ],
      "metadata": {
        "id": "D60asi5e7EkR"
      }
    },
    {
      "cell_type": "code",
      "source": [
        "df_filtado = df[df['Preço'] > 100]\n",
        "print(df_filtado)"
      ],
      "metadata": {
        "id": "DXDl89zH7W4r",
        "outputId": "e88d1e3c-1ce8-4fa2-b80f-adcf3869673b",
        "colab": {
          "base_uri": "https://localhost:8080/"
        }
      },
      "execution_count": null,
      "outputs": [
        {
          "output_type": "stream",
          "name": "stdout",
          "text": [
            "     Produto  Preço  Quantidade\n",
            "2   Gabinete    220           2\n",
            "4  Placa-Mãe    500           3\n"
          ]
        }
      ]
    },
    {
      "cell_type": "markdown",
      "source": [
        "## 4. Adicione uma coluna chamada Desconto ao DataFrame com 10% de desconto para todos os produtos"
      ],
      "metadata": {
        "id": "BEs8CU9I76GO"
      }
    },
    {
      "cell_type": "code",
      "source": [
        "df['Desconto'] = df['Preço'] * 0.1\n",
        "print(df)"
      ],
      "metadata": {
        "id": "JB47p5UO8L89",
        "outputId": "aa2ee378-7775-4167-e869-49ded8b6d397",
        "colab": {
          "base_uri": "https://localhost:8080/"
        }
      },
      "execution_count": null,
      "outputs": [
        {
          "output_type": "stream",
          "name": "stdout",
          "text": [
            "     Produto  Preço  Quantidade  Desconto\n",
            "0    Teclado     21           1       2.1\n",
            "1    Monitor     60           3       6.0\n",
            "2   Gabinete    220           2      22.0\n",
            "3     Cooler    100           4      10.0\n",
            "4  Placa-Mãe    500           3      50.0\n"
          ]
        }
      ]
    },
    {
      "cell_type": "markdown",
      "source": [
        "## 5. Remova as linhas do DataFrame que contenham valores nulos"
      ],
      "metadata": {
        "id": "HOel4mkO8o0M"
      }
    },
    {
      "cell_type": "code",
      "source": [
        "df = df.dropna()\n",
        "print(df)"
      ],
      "metadata": {
        "id": "p_JpZ7Zg8xG8",
        "outputId": "2271cc3a-008e-4172-b9db-ac7a6e55de07",
        "colab": {
          "base_uri": "https://localhost:8080/"
        }
      },
      "execution_count": null,
      "outputs": [
        {
          "output_type": "stream",
          "name": "stdout",
          "text": [
            "     Produto  Preço  Quantidade  Desconto\n",
            "0    Teclado     21           1       2.1\n",
            "1    Monitor     60           3       6.0\n",
            "2   Gabinete    220           2      22.0\n",
            "3     Cooler    100           4      10.0\n",
            "4  Placa-Mãe    500           3      50.0\n"
          ]
        }
      ]
    },
    {
      "cell_type": "markdown",
      "source": [
        "## 6. Ordene o DataFrame pela coluna Produto em ordem alfabética"
      ],
      "metadata": {
        "id": "Khsuh96O9XJQ"
      }
    },
    {
      "cell_type": "code",
      "source": [
        "df_ordenado = df.sort_values(by='Produto')\n",
        "print(df_ordenado)"
      ],
      "metadata": {
        "id": "jql-TjRZ9f5D",
        "outputId": "000daac0-71d1-495d-f87f-7c10b9af2899",
        "colab": {
          "base_uri": "https://localhost:8080/"
        }
      },
      "execution_count": null,
      "outputs": [
        {
          "output_type": "stream",
          "name": "stdout",
          "text": [
            "     Produto  Preço  Quantidade  Desconto\n",
            "3     Cooler    100           4      10.0\n",
            "2   Gabinete    220           2      22.0\n",
            "1    Monitor     60           3       6.0\n",
            "4  Placa-Mãe    500           3      50.0\n",
            "0    Teclado     21           1       2.1\n"
          ]
        }
      ]
    },
    {
      "cell_type": "markdown",
      "source": [
        "## 7. Crie uma nova coluna chamada Total que seja o produto entre as colunas Preço e Quantidade"
      ],
      "metadata": {
        "id": "TGiHsPIe-Z4g"
      }
    },
    {
      "cell_type": "code",
      "source": [
        "df['Total'] = df['Preço'] * df['Quantidade']\n",
        "print(df)"
      ],
      "metadata": {
        "id": "TUWLantI-m0j",
        "outputId": "0b932d66-5cf5-4fed-b40d-f8477fb4b9a8",
        "colab": {
          "base_uri": "https://localhost:8080/"
        }
      },
      "execution_count": null,
      "outputs": [
        {
          "output_type": "stream",
          "name": "stdout",
          "text": [
            "     Produto  Preço  Quantidade  Desconto  Total\n",
            "0    Teclado     21           1       2.1     21\n",
            "1    Monitor     60           3       6.0    180\n",
            "2   Gabinete    220           2      22.0    440\n",
            "3     Cooler    100           4      10.0    400\n",
            "4  Placa-Mãe    500           3      50.0   1500\n"
          ]
        }
      ]
    },
    {
      "cell_type": "markdown",
      "source": [
        "## 8. Agrupe o DataFrame pela coluna Categoria e calcule o total de produtos por categoria"
      ],
      "metadata": {
        "id": "Zew8-uvK-8_j"
      }
    },
    {
      "cell_type": "code",
      "source": [
        "df['Categoria'] = ['Perifericos-externos', 'Perifericos-externos', 'Perifericos-externos', 'Perifericos-internos', 'Perifericos-internos']\n",
        "\n",
        "total_produtos = df.groupby('Categoria')['Quantidade'].sum()\n",
        "print(total_produtos)"
      ],
      "metadata": {
        "id": "A0LlRjI1_Y6U",
        "outputId": "9279d9ae-505f-44b1-e152-63812d8878e9",
        "colab": {
          "base_uri": "https://localhost:8080/"
        }
      },
      "execution_count": null,
      "outputs": [
        {
          "output_type": "stream",
          "name": "stdout",
          "text": [
            "Categoria\n",
            "Perifericos-externos    6\n",
            "Perifericos-internos    7\n",
            "Name: Quantidade, dtype: int64\n"
          ]
        }
      ]
    },
    {
      "cell_type": "markdown",
      "source": [
        "## 9. Exporte o DataFrame resultante para um arquivo CSV chamado resultados.csv"
      ],
      "metadata": {
        "id": "ZynAsXSjAmFw"
      }
    },
    {
      "cell_type": "code",
      "source": [
        "df.to_csv('resultados.csv', index=False)"
      ],
      "metadata": {
        "id": "Opc92J5ZBYzC"
      },
      "execution_count": null,
      "outputs": []
    },
    {
      "cell_type": "markdown",
      "source": [
        "## 10. Leia um arquivo CSV, renomeie as colunas e exiba as 5 últimas linhas do DataFrame"
      ],
      "metadata": {
        "id": "vRRKHEpOBiIA"
      }
    },
    {
      "cell_type": "code",
      "source": [
        "df = pd.read_csv('resultados.csv')\n",
        "df = df.rename(columns={'Preço': 'Preco2', 'Quantidade': 'Quantidade2', 'Produto': 'Produto2', 'Desconto': 'Desconto2', 'Total': 'Total2', 'Categoria': 'Categoria2'})\n",
        "print(df.tail(5))"
      ],
      "metadata": {
        "id": "RKrooprtBwBV",
        "outputId": "26ada3df-3cbc-49ec-c002-6221a97c764b",
        "colab": {
          "base_uri": "https://localhost:8080/"
        }
      },
      "execution_count": null,
      "outputs": [
        {
          "output_type": "stream",
          "name": "stdout",
          "text": [
            "    Produto2  Preco2  Quantidade2  Desconto2  Total2            Categoria2\n",
            "0    Teclado      21            1        2.1      21  Perifericos-externos\n",
            "1    Monitor      60            3        6.0     180  Perifericos-externos\n",
            "2   Gabinete     220            2       22.0     440  Perifericos-externos\n",
            "3     Cooler     100            4       10.0     400  Perifericos-internos\n",
            "4  Placa-Mãe     500            3       50.0    1500  Perifericos-internos\n"
          ]
        }
      ]
    },
    {
      "cell_type": "markdown",
      "source": [
        "## 11. Preencha os valores nulos de uma coluna numérica com a mediana dessa coluna"
      ],
      "metadata": {
        "id": "zGo-eOeWCqOD"
      }
    },
    {
      "cell_type": "code",
      "source": [
        "df['Quantidade2'] = df['Quantidade2'].fillna(df['Quantidade2'].median())\n",
        "print(df)"
      ],
      "metadata": {
        "id": "4e4ZEcHhG6xL",
        "outputId": "f56cde3e-2ea9-4b12-94ef-ec892bf50550",
        "colab": {
          "base_uri": "https://localhost:8080/"
        }
      },
      "execution_count": null,
      "outputs": [
        {
          "output_type": "stream",
          "name": "stdout",
          "text": [
            "    Produto2  Preco2  Quantidade2  Desconto2  Total2            Categoria2\n",
            "0    Teclado      21            1        2.1      21  Perifericos-externos\n",
            "1    Monitor      60            3        6.0     180  Perifericos-externos\n",
            "2   Gabinete     220            2       22.0     440  Perifericos-externos\n",
            "3     Cooler     100            4       10.0     400  Perifericos-internos\n",
            "4  Placa-Mãe     500            3       50.0    1500  Perifericos-internos\n"
          ]
        }
      ]
    },
    {
      "cell_type": "markdown",
      "source": [
        "## 12. Verifique quais colunas de um DataFrame contêm valores duplicados"
      ],
      "metadata": {
        "id": "GMvux9X8HZPk"
      }
    },
    {
      "cell_type": "code",
      "source": [
        "df_duplicado_quant = df[df['Quantidade2'].duplicated()]\n",
        "df_duplicado_preco = df[df['Preco2'].duplicated()]\n",
        "df_duplicado_total = df[df['Total2'].duplicated()]\n",
        "print(f'{df_duplicado_quant}')\n",
        "print(f'{df_duplicado_preco}')\n",
        "print(df_duplicado_total)"
      ],
      "metadata": {
        "id": "kImotsYSHiX_",
        "outputId": "d9d17f3a-586d-403d-b279-41898e7d89bf",
        "colab": {
          "base_uri": "https://localhost:8080/"
        }
      },
      "execution_count": null,
      "outputs": [
        {
          "output_type": "stream",
          "name": "stdout",
          "text": [
            "    Produto2  Preco2  Quantidade2  Desconto2  Total2            Categoria2\n",
            "4  Placa-Mãe     500            3       50.0    1500  Perifericos-internos\n",
            "Empty DataFrame\n",
            "Columns: [Produto2, Preco2, Quantidade2, Desconto2, Total2, Categoria2]\n",
            "Index: []\n",
            "Empty DataFrame\n",
            "Columns: [Produto2, Preco2, Quantidade2, Desconto2, Total2, Categoria2]\n",
            "Index: []\n"
          ]
        }
      ]
    },
    {
      "cell_type": "markdown",
      "source": [
        "## 13. Crie uma tabela dinâmica a partir do DataFrame, calculando a soma de Quantidade por Categoria"
      ],
      "metadata": {
        "id": "hEu1Z0z4Ka2G"
      }
    },
    {
      "cell_type": "code",
      "source": [
        "pivot_table = pd.pivot_table(df, values='Quantidade2', index='Categoria2', aggfunc='sum')\n",
        "print(pivot_table)"
      ],
      "metadata": {
        "id": "zVuwWecDKmZ-",
        "outputId": "2c2a6397-a554-4da0-d978-270f657cdfe0",
        "colab": {
          "base_uri": "https://localhost:8080/"
        }
      },
      "execution_count": null,
      "outputs": [
        {
          "output_type": "stream",
          "name": "stdout",
          "text": [
            "                      Quantidade2\n",
            "Categoria2                       \n",
            "Perifericos-externos            6\n",
            "Perifericos-internos            7\n"
          ]
        }
      ]
    },
    {
      "cell_type": "markdown",
      "source": [
        "## 14. Mescle dois DataFrames baseados em uma coluna comum chamada ID utilizando um join"
      ],
      "metadata": {
        "id": "9Y-vmu-YLG7b"
      }
    },
    {
      "cell_type": "code",
      "source": [
        "import pandas as pd\n",
        "\n",
        "dados = {'ID': 1,\n",
        "        'Produto': ['Teclado', 'Monitor', 'Gabinete', 'Cooler', 'Placa-Mãe'],\n",
        "         'Preço': [21, 60, 220, 100, 500],\n",
        "         'Quantidade': [1, 3, 2, 4, 3],\n",
        "         }\n",
        "\n",
        "dados2 = {'ID': 2,\n",
        "        'Produto': ['Teclado2', 'Monitor2', 'Gabinete2', 'Cooler2', 'Placa-Mãe2'],\n",
        "         'Preço': [21, 60, 220, 100, 500],\n",
        "         'Quantidade': [1, 3, 2, 4, 3],\n",
        "         }\n",
        "\n",
        "df1 = pd.DataFrame(dados)\n",
        "df2 = pd.DataFrame(dados2)\n",
        "\n",
        "df_mesclado = pd.merge(df1, df2, on='ID')\n",
        "print(df_mesclado)"
      ],
      "metadata": {
        "id": "S9Tbkr45LyN8",
        "outputId": "fef345b5-7ce9-4a01-8782-c0daf0a95a1b",
        "colab": {
          "base_uri": "https://localhost:8080/"
        }
      },
      "execution_count": null,
      "outputs": [
        {
          "output_type": "stream",
          "name": "stdout",
          "text": [
            "Empty DataFrame\n",
            "Columns: [ID, Produto_x, Preço_x, Quantidade_x, Produto_y, Preço_y, Quantidade_y]\n",
            "Index: []\n"
          ]
        }
      ]
    },
    {
      "cell_type": "markdown",
      "source": [
        "## 15.  Crie um DataFrame com dados faltantes e use a interpolação linear para preenchê-los"
      ],
      "metadata": {
        "id": "_9uZHD2Tl3tH"
      }
    },
    {
      "cell_type": "code",
      "source": [
        "import pandas as pd\n",
        "import numpy as np\n",
        "\n",
        "dados = {'ID': [1, 2, 3, 4, 5],\n",
        "         'Produto': ['Teclado', 'Monitor', 'Gabinete', 'Cooler', 'Placa-Mãe'],\n",
        "         'Preço': [21,np.nan , 220, 100, 500],\n",
        "         'Quantidade': [1, 3, np.nan, 4, 3],\n",
        "         }\n",
        "\n",
        "df = pd.DataFrame(dados)\n",
        "\n",
        "df['Preço'] = df['Preço'].interpolate()\n",
        "df['Quantidade'] = df['Quantidade'].interpolate()\n",
        "print(df)"
      ],
      "metadata": {
        "id": "8zXUGLXKmFLv",
        "outputId": "c7d7ddfb-c34c-45ed-ee0e-a7bbb29f3a5a",
        "colab": {
          "base_uri": "https://localhost:8080/"
        }
      },
      "execution_count": null,
      "outputs": [
        {
          "output_type": "stream",
          "name": "stdout",
          "text": [
            "   ID    Produto  Preço  Quantidade\n",
            "0   1    Teclado   21.0         1.0\n",
            "1   2    Monitor  120.5         3.0\n",
            "2   3   Gabinete  220.0         3.5\n",
            "3   4     Cooler  100.0         4.0\n",
            "4   5  Placa-Mãe  500.0         3.0\n"
          ]
        }
      ]
    },
    {
      "cell_type": "markdown",
      "source": [
        "## 16.  Crie um gráfico de barras a partir de um DataFrame usando a biblioteca Pandas"
      ],
      "metadata": {
        "id": "NtvQbmwgsSVO"
      }
    },
    {
      "cell_type": "code",
      "source": [
        "import pandas as pd\n",
        "\n",
        "dados = {\n",
        "    'Nome': ['Davi','Laura','Mariana','Elenita','Carlito'],\n",
        "    'idade': [22, 20, 21, 60, 57],\n",
        "    'Sexo': ['M', 'F', 'F', 'F', 'M']\n",
        "}\n",
        "\n",
        "df = pd.DataFrame(dados)\n",
        "\n",
        "df.plot(kind='bar', x='Nome', y='idade')\n"
      ],
      "metadata": {
        "id": "BeGAEgHOsdxT",
        "outputId": "9276057d-6074-4a0a-d380-c7a6e69cb2f8",
        "colab": {
          "base_uri": "https://localhost:8080/",
          "height": 509
        }
      },
      "execution_count": null,
      "outputs": [
        {
          "output_type": "execute_result",
          "data": {
            "text/plain": [
              "<Axes: xlabel='Nome'>"
            ]
          },
          "metadata": {},
          "execution_count": 20
        },
        {
          "output_type": "display_data",
          "data": {
            "text/plain": [
              "<Figure size 640x480 with 1 Axes>"
            ],
            "image/png": "[encoded data removed]"
          },
          "metadata": {}
        }
      ]
    },
    {
      "cell_type": "markdown",
      "source": [
        "## 17. Adicione uma coluna ao DataFrame que calcule o imposto (5%) sobre o valor da coluna Total"
      ],
      "metadata": {
        "id": "ScMOyxYPDXbL"
      }
    },
    {
      "cell_type": "code",
      "source": [
        "import pandas as pd\n",
        "\n",
        "dados = {\n",
        "    'Eletrodomesticos': ['Celular', 'Geladeira', 'Televisão', 'Microondas', 'Ventilador'],\n",
        "    'Preço': [1900, 2500, 2100, 800, 150],\n",
        "    'Quantidade': [2, 1, 2, 1, 4],\n",
        "}\n",
        "\n",
        "df = pd.DataFrame(dados)\n",
        "\n",
        "df['Total'] = df['Preço'] * df['Quantidade']\n",
        "df['Imposto'] = df['Total'] * 0.05\n",
        "print(df)"
      ],
      "metadata": {
        "id": "B_SLYHIXDeRC",
        "outputId": "b767d2da-9aee-4a3a-fde6-8c66c122f01f",
        "colab": {
          "base_uri": "https://localhost:8080/"
        }
      },
      "execution_count": 1,
      "outputs": [
        {
          "output_type": "stream",
          "name": "stdout",
          "text": [
            "  Eletrodomesticos  Preço  Quantidade  Total  Imposto\n",
            "0          Celular   1900           2   3800    190.0\n",
            "1        Geladeira   2500           1   2500    125.0\n",
            "2        Televisão   2100           2   4200    210.0\n",
            "3       Microondas    800           1    800     40.0\n",
            "4       Ventilador    150           4    600     30.0\n"
          ]
        }
      ]
    },
    {
      "cell_type": "markdown",
      "source": [
        "## 18. Exiba apenas as linhas de um DataFrame onde o nome do produto começa com a letra ”B”"
      ],
      "metadata": {
        "id": "gaiN2096E8NY"
      }
    },
    {
      "cell_type": "code",
      "source": [
        "nome_filtrado = df[df['Eletrodomesticos'].str.startswith('B')]\n",
        "print(nome_filtrado)"
      ],
      "metadata": {
        "id": "0gUD-iHMFAnW",
        "outputId": "b2baf246-02d7-4eb9-d863-8d676beda377",
        "colab": {
          "base_uri": "https://localhost:8080/"
        }
      },
      "execution_count": 6,
      "outputs": [
        {
          "output_type": "stream",
          "name": "stdout",
          "text": [
            "Empty DataFrame\n",
            "Columns: [Eletrodomesticos, Preço, Quantidade, Total, Imposto]\n",
            "Index: []\n"
          ]
        }
      ]
    },
    {
      "cell_type": "markdown",
      "source": [
        "## 19. Crie um DataFrame a partir de um dicionário de listas e calcule a média de cada coluna numérica"
      ],
      "metadata": {
        "id": "g26g9fA8IzyV"
      }
    },
    {
      "cell_type": "code",
      "source": [
        "dados = {'Nome': ['Davi','Laura','Mariana','Elenita','Carlito'],\n",
        "    'idade': [22, 20, 21, 60, 57],\n",
        "    'Sexo': ['M', 'F', 'F', 'F', 'M']\n",
        "}\n",
        "\n",
        "df = pd.DataFrame(dados)\n",
        "\n",
        "media_idade = df['idade'].mean()\n",
        "print(media_idade)"
      ],
      "metadata": {
        "id": "KC2VL2qVJAvK",
        "outputId": "23f3d9f5-c2bf-45d2-bb81-b37c38443f82",
        "colab": {
          "base_uri": "https://localhost:8080/"
        }
      },
      "execution_count": 7,
      "outputs": [
        {
          "output_type": "stream",
          "name": "stdout",
          "text": [
            "36.0\n"
          ]
        }
      ]
    },
    {
      "cell_type": "markdown",
      "source": [
        "## 20. Agrupe os dados por uma coluna categórica e calcule a mediana de uma coluna numérica"
      ],
      "metadata": {
        "id": "XAYlNibWJWDO"
      }
    },
    {
      "cell_type": "code",
      "source": [
        "import pandas as pd\n",
        "\n",
        "dados = {\n",
        "    'Eletrodomesticos': ['Celular', 'Geladeira', 'Televisão', 'Microondas', 'Ventilador'],\n",
        "    'Preço': [1900, 2500, 2100, 800, 150],\n",
        "    'Quantidade': [2, 1, 2, 1, 4],\n",
        "}\n",
        "\n",
        "df = pd.DataFrame(dados)\n",
        "\n",
        "df['Categoria'] = ['Eletronico', 'Eletrodomestico', 'Eletrodomestico', 'Eletrodomestico', 'Eletrodomestico']\n",
        "\n",
        "mediana_preco = df.groupby('Categoria')['Preço'].median()\n",
        "mediana_quantidade = df.groupby('Categoria')['Quantidade'].median()\n",
        "print(mediana_preco)\n",
        "print(mediana_quantidade)"
      ],
      "metadata": {
        "id": "YguLAOziJgK4",
        "outputId": "1c50f759-5e67-4237-d69d-0904abb8f6df",
        "colab": {
          "base_uri": "https://localhost:8080/"
        }
      },
      "execution_count": 8,
      "outputs": [
        {
          "output_type": "stream",
          "name": "stdout",
          "text": [
            "Categoria\n",
            "Eletrodomestico    1450.0\n",
            "Eletronico         1900.0\n",
            "Name: Preço, dtype: float64\n",
            "Categoria\n",
            "Eletrodomestico    1.5\n",
            "Eletronico         2.0\n",
            "Name: Quantidade, dtype: float64\n"
          ]
        }
      ]
    }
  ]
}