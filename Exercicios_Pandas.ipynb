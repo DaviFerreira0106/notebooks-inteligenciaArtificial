{
  "nbformat": 4,
  "nbformat_minor": 0,
  "metadata": {
    "colab": {
      "provenance": [],
      "authorship_tag": "ABX9TyP9Rm6vgONxxS7ST2m7ssVN",
      "include_colab_link": true
    },
    "kernelspec": {
      "name": "python3",
      "display_name": "Python 3"
    },
    "language_info": {
      "name": "python"
    }
  },
  "cells": [
    {
      "cell_type": "markdown",
      "metadata": {
        "id": "view-in-github",
        "colab_type": "text"
      },
      "source": [
        "<a href=\"https://colab.research.google.com/github/DaviFerreira0106/notebooks-inteligenciaArtificial/blob/main/Exercicios_Pandas.ipynb\" target=\"_parent\"><img src=\"https://colab.research.google.com/assets/colab-badge.svg\" alt=\"Open In Colab\"/></a>"
      ]
    },
    {
      "cell_type": "markdown",
      "source": [
        "# Exercício Pandas"
      ],
      "metadata": {
        "id": "9p9bvXUwGPxR"
      }
    },
    {
      "cell_type": "markdown",
      "source": [
        "## 1. Crie um DataFrame contendo as colunas Produto, Preço e Quantidade com 5 produtos."
      ],
      "metadata": {
        "id": "sQyLL5RQGZZW"
      }
    },
    {
      "cell_type": "code",
      "source": [],
      "metadata": {
        "id": "JYx7T-soGi7E"
      },
      "execution_count": null,
      "outputs": []
    }
  ]
}